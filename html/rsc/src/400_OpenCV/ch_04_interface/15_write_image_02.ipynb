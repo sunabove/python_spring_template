{
 "cells": [
  {
   "cell_type": "markdown",
   "metadata": {},
   "source": [
    "# 영상 저장"
   ]
  },
  {
   "cell_type": "code",
   "execution_count": 1,
   "metadata": {},
   "outputs": [],
   "source": [
    "import numpy as np\n",
    "import cv2\n",
    "\n",
    "image8 = cv2.imread(\"img/read_color.jpg\", cv2.IMREAD_COLOR)\n",
    "if image8 is None: raise Exception(\"영상파일 읽기 에러\") \t# 영상 파일 예외처리\n",
    "\n",
    "image16 = np.uint16(image8 * (65535/255))       # 형변환 및 화소 스케일 조정\n",
    "image32 = np.float32(image8 * (1/255))\n",
    "\n",
    "# 화소값을 확인하기 위한 관심 영역(10,10 위치에서 2x3 크기) 출력\n",
    "print(\"image8 행렬의 일부\\n %s\\n\"  % image8[10:12, 10:13])\n",
    "print(\"image16 행렬의 일부\\n %s\\n\" % image16[10:12, 10:13])\n",
    "print(\"image32 행렬의 일부\\n %s\\n\" % image32[10:12, 10:13])\n",
    "\n",
    "cv2.imwrite(\"images/write_test_16.tif\", image16)\n",
    "cv2.imwrite(\"images/write_test_32.tif\", image32)\n",
    "\n",
    "cv2.imshow(\"image16\", image16)\n",
    "cv2.imshow(\"image32\", (image32*255).astype(\"uint8\"))\n",
    "cv2.waitKey(0)"
   ]
  }
 ],
 "metadata": {
  "kernelspec": {
   "display_name": "Python 3",
   "language": "python",
   "name": "python3"
  },
  "language_info": {
   "codemirror_mode": {
    "name": "ipython",
    "version": 3
   },
   "file_extension": ".py",
   "mimetype": "text/x-python",
   "name": "python",
   "nbconvert_exporter": "python",
   "pygments_lexer": "ipython3",
   "version": "3.7.7"
  }
 },
 "nbformat": 4,
 "nbformat_minor": 4
}
