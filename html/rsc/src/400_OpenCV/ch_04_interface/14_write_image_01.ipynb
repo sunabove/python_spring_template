{
 "cells": [
  {
   "cell_type": "markdown",
   "metadata": {},
   "source": [
    "# 영상 저장"
   ]
  },
  {
   "cell_type": "markdown",
   "metadata": {},
   "source": [
    "압축 방식에 사용되는 params 인수 튜플의 예시\n",
    "\n",
    "- cv2.IMWRITE_JPEG_QUALITY (paramValue : 0~100(defualt: 95) : JPG 파일 화질, 높은 값일수록 화질이 좋다\n",
    "- cv2.IMWRITE_PNG_COMPRESSION (paramValue : 0 ~ 9(defualt: 3)) : PNG 파일 압축 레벨, 높은 값일수록 용량은 적어지고, 압축 시간이 길어짐\n",
    "- cv2.IMWRITE_PXM_BINARY(paramValue : 0 or 1(defualt: 1)) : PPM,PGM 파일의 이진 포맷 설정"
   ]
  },
  {
   "cell_type": "code",
   "execution_count": 1,
   "metadata": {},
   "outputs": [],
   "source": [
    "import cv2\n",
    "\n",
    "image = cv2.imread(\"img/read_color.jpg\", cv2.IMREAD_COLOR)\n",
    "if image is None:\n",
    "    raise Exception(\"파일 읽기 에러\")\n",
    "\n",
    "params_jpg = (cv2.IMWRITE_JPEG_QUALITY, 10)        # JPEG 화질 설정\n",
    "params_png = [cv2.IMWRITE_PNG_COMPRESSION, 9]       # PNG 압축 레벨 설정\n",
    "\n",
    "## 행렬을 영상 파일로 저장\n",
    "cv2.imwrite(\"img/write_test1.jpg\", image)       # 디폴트는 95\n",
    "cv2.imwrite(\"img/write_test2.jpg\", image, params_jpg) # 지정 화질로 저장 (저화질)\n",
    "cv2.imwrite(\"img/write_test3.png\", image, params_png)\n",
    "cv2.imwrite(\"img/write_test4.bmp\", image)         # BMP 파일로 저장\n",
    "print(\"저장 완료\")"
   ]
  }
 ],
 "metadata": {
  "kernelspec": {
   "display_name": "Python 3",
   "language": "python",
   "name": "python3"
  },
  "language_info": {
   "codemirror_mode": {
    "name": "ipython",
    "version": 3
   },
   "file_extension": ".py",
   "mimetype": "text/x-python",
   "name": "python",
   "nbconvert_exporter": "python",
   "pygments_lexer": "ipython3",
   "version": "3.7.7"
  }
 },
 "nbformat": 4,
 "nbformat_minor": 4
}
