{
 "cells": [
  {
   "cell_type": "code",
   "execution_count": 5,
   "metadata": {},
   "outputs": [
    {
     "name": "stdout",
     "output_type": "stream",
     "text": [
      "a =  [1 2 3]\n",
      "b =  [4 5 6]\n",
      "Dot product einstein sum = 32\n",
      "Dot product a@b = 32\n"
     ]
    }
   ],
   "source": [
    "# 벡터 내적\n",
    "\n",
    "import numpy as np\n",
    "\n",
    "# 두 벡터\n",
    "a = np.array( [1, 2, 3] )\n",
    "b = np.array( [4, 5, 6] )\n",
    "\n",
    "# 아인슈타인 표기법을 사용한 내적 계산\n",
    "dot_product = np.einsum('i,i->', a, b)\n",
    "# 위 식에서 'i,i->'는 두 벡터의 동일한 인덱스를 곱하고,\n",
    "# 결과를 스칼라로 반환하라는 의미입니다.\n",
    "\n",
    "print( \"a = \", a )\n",
    "print( \"b = \", b )\n",
    "print(\"Dot product einstein sum =\", dot_product)\n",
    "print(\"Dot product a@b =\", a@b )\n"
   ]
  }
 ],
 "metadata": {
  "kernelspec": {
   "display_name": "Python 3",
   "language": "python",
   "name": "python3"
  },
  "language_info": {
   "codemirror_mode": {
    "name": "ipython",
    "version": 3
   },
   "file_extension": ".py",
   "mimetype": "text/x-python",
   "name": "python",
   "nbconvert_exporter": "python",
   "pygments_lexer": "ipython3",
   "version": "3.11.9"
  },
  "orig_nbformat": 4
 },
 "nbformat": 4,
 "nbformat_minor": 2
}
