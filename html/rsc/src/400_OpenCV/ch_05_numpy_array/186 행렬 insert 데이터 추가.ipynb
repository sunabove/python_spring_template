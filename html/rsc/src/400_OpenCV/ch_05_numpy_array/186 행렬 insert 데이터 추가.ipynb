{
 "cells": [
  {
   "cell_type": "code",
   "execution_count": 1,
   "metadata": {},
   "outputs": [
    {
     "name": "stdout",
     "output_type": "stream",
     "text": [
      "h = \n",
      "[[ 1  3  5]\n",
      " [ 6  8 10]\n",
      " [11 13 15]]\n",
      "----------------------------------------\n",
      "i = np.insert( h, [1, 2], 0, axis=1)\n",
      "[[ 1  0  3  0  5]\n",
      " [ 6  0  8  0 10]\n",
      " [11  0 13  0 15]]\n",
      "----------------------------------------\n",
      "u = \n",
      "[[ 1  5]\n",
      " [ 6 10]\n",
      " [11 15]]\n",
      "----------------------------------------\n",
      "w = \n",
      "[[ 2  3  4]\n",
      " [ 7  8  9]\n",
      " [12 13 14]]\n",
      "----------------------------------------\n",
      "x = np.insert(u, [1], w, axis=1)\n",
      "[[ 1  2  3  4  5]\n",
      " [ 6  7  8  9 10]\n",
      " [11 12 13 14 15]]\n",
      "----------------------------------------\n",
      "v = \n",
      "[[ 1  2  3  4  5]\n",
      " [11 12 13 14 15]]\n",
      "----------------------------------------\n",
      "np.insert( v, 1, 7, axis=0)\n",
      "[[ 1  2  3  4  5]\n",
      " [ 7  7  7  7  7]\n",
      " [11 12 13 14 15]]\n"
     ]
    }
   ],
   "source": [
    "import numpy as np\n",
    "\n",
    "h = np.array( [ [1, 3, 5], [6, 8, 10], [11, 13, 15]])\n",
    "i = np.insert( h, [1, 2], 0, axis=1)\n",
    "\n",
    "u = np.array( [[1, 5], [6, 10], [11, 15]] )\n",
    "w = np.array( [[2, 3, 4], [7, 8, 9], [12, 13, 14]])\n",
    "x = np.insert(u, [1], w, axis=1)\n",
    "\n",
    "v = np.array( [[1, 2, 3, 4, 5], [11, 12, 13, 14 ,15]])\n",
    "p = np.insert( v, 1, 7, axis=0)\n",
    "\n",
    "print( \"h = \", h, sep=\"\\n\" )\n",
    "print( \"-\"*40 )\n",
    "print( \"i = np.insert( h, [1, 2], 0, axis=1)\", i, sep=\"\\n\" )\n",
    "print( \"-\"*40 )\n",
    "\n",
    "print( \"u = \", u, sep=\"\\n\" )\n",
    "print( \"-\"*40 )\n",
    "print( \"w = \", w, sep=\"\\n\" )\n",
    "print( \"-\"*40 )\n",
    "print( \"x = np.insert(u, [1], w, axis=1)\", x, sep=\"\\n\" )\n",
    "print( \"-\"*40 )\n",
    "\n",
    "print( \"v = \", v, sep=\"\\n\" )\n",
    "print( \"-\"*40 )\n",
    "print( \"np.insert( v, 1, 7, axis=0)\", p, sep=\"\\n\" )"
   ]
  }
 ],
 "metadata": {
  "kernelspec": {
   "display_name": "Python 3",
   "language": "python",
   "name": "python3"
  },
  "language_info": {
   "codemirror_mode": {
    "name": "ipython",
    "version": 3
   },
   "file_extension": ".py",
   "mimetype": "text/x-python",
   "name": "python",
   "nbconvert_exporter": "python",
   "pygments_lexer": "ipython3",
   "version": "3.11.9"
  }
 },
 "nbformat": 4,
 "nbformat_minor": 2
}
