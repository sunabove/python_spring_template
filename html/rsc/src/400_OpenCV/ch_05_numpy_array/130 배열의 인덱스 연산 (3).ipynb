{
 "cells": [
  {
   "cell_type": "code",
   "execution_count": 1,
   "metadata": {},
   "outputs": [
    {
     "name": "stdout",
     "output_type": "stream",
     "text": [
      "a => [1 2 3 4 5 6 7 6 5 4 3 2 1]\n",
      "a[ a < 3 ] = 3; a[ a > 5 ] = 5 => [3 3 3 4 5 5 5 5 5 4 3 3 3]\n",
      "f = np.clip(a, 3, 5 ) => [3 3 3 4 5 5 5 5 5 4 3 3 3]\n"
     ]
    }
   ],
   "source": [
    "import numpy as np\n",
    "a = np.array( [1,2,3,4,5,6,7,6,5,4,3,2,1] )\n",
    "\n",
    "print( \"a =>\", a )\n",
    "# 3 미만은 3으로, 5 초과는 5로 설정\n",
    "a[ a < 3 ] = 3; a[ a > 5 ] = 5\n",
    "print( \"a[ a < 3 ] = 3; a[ a > 5 ] = 5 =>\", a )\n",
    "\n",
    "a = np.array( [1,2,3,4,5,6,7,6,5,4,3,2,1] )\n",
    "f = np.clip(a, 3, 5 )\n",
    "print( \"f = np.clip(a, 3, 5 ) =>\", f )\n"
   ]
  }
 ],
 "metadata": {
  "kernelspec": {
   "display_name": "Python 3",
   "language": "python",
   "name": "python3"
  },
  "language_info": {
   "codemirror_mode": {
    "name": "ipython",
    "version": 3
   },
   "file_extension": ".py",
   "mimetype": "text/x-python",
   "name": "python",
   "nbconvert_exporter": "python",
   "pygments_lexer": "ipython3",
   "version": "3.11.9"
  }
 },
 "nbformat": 4,
 "nbformat_minor": 2
}
