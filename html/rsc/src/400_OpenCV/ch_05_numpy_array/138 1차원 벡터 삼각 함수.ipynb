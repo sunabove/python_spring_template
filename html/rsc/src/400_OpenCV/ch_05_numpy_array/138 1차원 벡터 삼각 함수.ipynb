{
 "cells": [
  {
   "cell_type": "code",
   "execution_count": 2,
   "metadata": {},
   "outputs": [
    {
     "name": "stdout",
     "output_type": "stream",
     "text": [
      "[1.2246468e-16 1.0000000e+00]\n",
      "[0.         1.57079633]\n",
      "[-1.000000e+00  6.123234e-17]\n",
      "[1.57079633 0.        ]\n",
      "[-1.22464680e-16  1.63312394e+16]\n",
      "[0.         0.78539816]\n",
      "[ 5. 13.]\n"
     ]
    }
   ],
   "source": [
    "import numpy as np\n",
    "\n",
    "# 사인 함수\n",
    "print( np.sin( [ np.pi, np.pi/2 ] ) )\n",
    "# 사인 역함수\n",
    "print( np.arcsin( [ 0., 1. ] ) )\n",
    "# 코사인 함수\n",
    "print( np.cos( [ np.pi, np.pi/2 ] ) )\n",
    "# 코사인 역함수\n",
    "print( np.arccos( [ 0., 1. ] ) )\n",
    "# 탄젠트 함수\n",
    "print( np.tan( [ np.pi, np.pi/2 ] ) )\n",
    "# 탄젠트 역함수\n",
    "print( np.arctan( [ 0., 1. ] ) )\n",
    "# 직각 삼각형 빗변 함수\n",
    "print( np.hypot( [3., 5.], [4., 12.] ) )"
   ]
  }
 ],
 "metadata": {
  "kernelspec": {
   "display_name": "Python 3",
   "language": "python",
   "name": "python3"
  },
  "language_info": {
   "codemirror_mode": {
    "name": "ipython",
    "version": 3
   },
   "file_extension": ".py",
   "mimetype": "text/x-python",
   "name": "python",
   "nbconvert_exporter": "python",
   "pygments_lexer": "ipython3",
   "version": "3.11.9"
  }
 },
 "nbformat": 4,
 "nbformat_minor": 2
}
