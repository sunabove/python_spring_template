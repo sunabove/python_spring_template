{
 "cells": [
  {
   "cell_type": "code",
   "execution_count": 4,
   "metadata": {},
   "outputs": [
    {
     "name": "stdout",
     "output_type": "stream",
     "text": [
      "a = np.arange(1, 9) =  [1 2 3 4 5 6 7 8]\n",
      "--------------------------------------------------\n",
      "b = np.arange(1, 9).reshape(2, 2, 2) = \n",
      "[[[1 2]\n",
      "  [3 4]]\n",
      "\n",
      " [[5 6]\n",
      "  [7 8]]]\n",
      "--------------------------------------------------\n",
      "c = \n",
      "[[[0 0 0 0]\n",
      "  [0 0 0 0]]\n",
      "\n",
      " [[1 1 1 1]\n",
      "  [1 1 1 1]]\n",
      "\n",
      " [[2 2 2 2]\n",
      "  [2 2 2 2]]]\n",
      "--------------------------------------------------\n",
      "c.shape =  (3, 2, 4)\n",
      "--------------------------------------------------\n",
      "len(c.shape) =  3\n",
      "--------------------------------------------------\n",
      "c.ndim =  3\n",
      "--------------------------------------------------\n"
     ]
    }
   ],
   "source": [
    "import numpy as np\n",
    "\n",
    "a = np.arange(1, 9)\n",
    "b = np.arange(1, 9).reshape(2, 2, 2)\n",
    "c = np.array( [ [ [0]*4 ]*2 , [ [1]*4 ]*2 , [ [2]*4 ]*2 ] )\n",
    "\n",
    "print( 'a = np.arange(1, 9) = ', a )\n",
    "print( \"-\"*50  )\n",
    "print( 'b = np.arange(1, 9).reshape(2, 2, 2) = ', b , sep='\\n' )\n",
    "print( \"-\"*50  )\n",
    "print( \"c = \", c, sep=\"\\n\" )\n",
    "print( \"-\"*50  )\n",
    "print( \"c.shape = \", c.shape )\n",
    "print( \"-\"*50  )\n",
    "print( \"len(c.shape) = \", len(c.shape) )\n",
    "print( \"-\"*50  )\n",
    "print( \"c.ndim = \", c.ndim )\n",
    "print( \"-\"*50  )\n"
   ]
  }
 ],
 "metadata": {
  "kernelspec": {
   "display_name": "Python 3",
   "language": "python",
   "name": "python3"
  },
  "language_info": {
   "codemirror_mode": {
    "name": "ipython",
    "version": 3
   },
   "file_extension": ".py",
   "mimetype": "text/x-python",
   "name": "python",
   "nbconvert_exporter": "python",
   "pygments_lexer": "ipython3",
   "version": "3.11.9"
  },
  "orig_nbformat": 4
 },
 "nbformat": 4,
 "nbformat_minor": 2
}
