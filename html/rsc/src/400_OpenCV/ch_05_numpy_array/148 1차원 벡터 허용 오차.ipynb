{
 "cells": [
  {
   "cell_type": "code",
   "execution_count": 3,
   "metadata": {},
   "outputs": [
    {
     "name": "stdout",
     "output_type": "stream",
     "text": [
      "0.1 + 0.2 == 0.3             => False\n",
      "math.isclose(0.1 + 0.2, 0.3) => True\n",
      "np.allclose(0.1 + 0.2, 0.3)  => True\n",
      "---------------------------------------------\n",
      "1e-9 == 2e-9                => False\n",
      "math.isclose( 1e9, 2e-9 )  => False\n",
      "np.allclose( 1e-9, 2e-9 )   => True\n",
      "---------------------------------------------\n",
      "0.1 + 0.2 - 0.3 == 0             => False\n",
      "math.isclose(0.1 + 0.2 - 0.3, 0) => False\n",
      "np.allclose( 0.1 + 0.2-0.3, 0 )  => True\n"
     ]
    }
   ],
   "source": [
    "import math\n",
    "import numpy as np\n",
    "\n",
    "print( \"0.1 + 0.2 == 0.3             =>\", 0.1 + 0.2 == 0.3 )\n",
    "print( \"math.isclose(0.1 + 0.2, 0.3) =>\", math.isclose(0.1 + 0.2 , 0.3) )\n",
    "print( \"np.allclose(0.1 + 0.2, 0.3)  =>\", np.allclose(0.1 + 0.2, 0.3) )\n",
    "print( \"-\"*45 )\n",
    "print( \"1e-9 == 2e-9                =>\", 1e-9 == 2e-9 )\n",
    "print( \"math.isclose( 1e9, 2e-9 )  =>\", math.isclose( 1e9, 2e-9 ) )\n",
    "print( \"np.allclose( 1e-9, 2e-9 )   =>\", np.allclose( 1e-9, 2e-9 ) )\n",
    "print( \"-\"*45 )\n",
    "print( \"0.1 + 0.2 - 0.3 == 0             =>\", 0.1 + 0.2 - 0.3 == 0 )\n",
    "print( \"math.isclose(0.1 + 0.2 - 0.3, 0) =>\", math.isclose(0.1 + 0.2 - 0.3, 0) )\n",
    "print( \"np.allclose( 0.1 + 0.2-0.3, 0 )  =>\", np.allclose( 0.1 + 0.2-0.3, 0 ) )\n"
   ]
  },
  {
   "cell_type": "code",
   "execution_count": 12,
   "metadata": {},
   "outputs": [
    {
     "data": {
      "text/plain": [
       "False"
      ]
     },
     "execution_count": 12,
     "metadata": {},
     "output_type": "execute_result"
    }
   ],
   "source": [
    "0.1 + 0.2 == 0.3"
   ]
  }
 ],
 "metadata": {
  "kernelspec": {
   "display_name": "Python 3",
   "language": "python",
   "name": "python3"
  },
  "language_info": {
   "codemirror_mode": {
    "name": "ipython",
    "version": 3
   },
   "file_extension": ".py",
   "mimetype": "text/x-python",
   "name": "python",
   "nbconvert_exporter": "python",
   "pygments_lexer": "ipython3",
   "version": "3.11.9"
  }
 },
 "nbformat": 4,
 "nbformat_minor": 2
}
