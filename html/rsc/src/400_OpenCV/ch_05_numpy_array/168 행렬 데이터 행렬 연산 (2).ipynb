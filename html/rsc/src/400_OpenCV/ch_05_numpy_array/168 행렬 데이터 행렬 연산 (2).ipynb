{
 "cells": [
  {
   "cell_type": "code",
   "execution_count": 4,
   "metadata": {},
   "outputs": [
    {
     "name": "stdout",
     "output_type": "stream",
     "text": [
      "a = \n",
      "[[1 2 3]\n",
      " [4 5 6]\n",
      " [7 8 9]]\n",
      "------------------------------\n",
      "c = \n",
      "[[3]\n",
      " [6]\n",
      " [9]]\n",
      "------------------------------\n",
      "a/c =\n",
      "[[0.33333333 0.66666667 1.        ]\n",
      " [0.66666667 0.83333333 1.        ]\n",
      " [0.77777778 0.88888889 1.        ]]\n",
      "------------------------------\n",
      "a = \n",
      "[[1 2 3]\n",
      " [4 5 6]\n",
      " [7 8 9]]\n",
      "------------------------------\n",
      "d = \n",
      "[[1]\n",
      " [2]\n",
      " [3]]\n",
      "------------------------------\n",
      "a*d = \n",
      "[[ 1  2  3]\n",
      " [ 8 10 12]\n",
      " [21 24 27]]\n",
      "------------------------------\n",
      "a = \n",
      "[[1 2 3]\n",
      " [4 5 6]\n",
      " [7 8 9]]\n",
      "------------------------------\n",
      "d = \n",
      "[[1]\n",
      " [2]\n",
      " [3]]\n",
      "------------------------------\n",
      "a@d = \n",
      "[[14]\n",
      " [32]\n",
      " [50]]\n",
      "------------------------------\n"
     ]
    }
   ],
   "source": [
    "import numpy as np \n",
    "\n",
    "a = np.array( [ [1, 2, 3 ], [4, 5, 6], [7, 8, 9] ] )\n",
    "c = np.array( [ [3], [6], [9] ] )\n",
    "d = np.array( [ [1], [2], [3] ] ) \n",
    "\n",
    "print( \"a = \", a, sep=\"\\n\" )\n",
    "print( \"-\"*30 )\n",
    "print( \"c = \", c, sep=\"\\n\" )\n",
    "print( \"-\"*30 )\n",
    "print( \"a/c =\", a/c, sep=\"\\n\" )\n",
    "print( \"-\"*30 )\n",
    "\n",
    "print( \"a = \", a, sep=\"\\n\" )\n",
    "print( \"-\"*30 )\n",
    "print( \"d = \", d, sep=\"\\n\" )\n",
    "print( \"-\"*30 )\n",
    "\n",
    "print( \"a*d = \", a*d, sep=\"\\n\" )\n",
    "print( \"-\"*30 )\n",
    "\n",
    "print( \"a = \", a, sep=\"\\n\" )\n",
    "print( \"-\"*30 )\n",
    "print( \"d = \", d, sep=\"\\n\" )\n",
    "print( \"-\"*30 )\n",
    "print( \"a@d = \", a@d, sep=\"\\n\" )\n",
    "print( \"-\"*30 )"
   ]
  }
 ],
 "metadata": {
  "kernelspec": {
   "display_name": "Python 3",
   "language": "python",
   "name": "python3"
  },
  "language_info": {
   "codemirror_mode": {
    "name": "ipython",
    "version": 3
   },
   "file_extension": ".py",
   "mimetype": "text/x-python",
   "name": "python",
   "nbconvert_exporter": "python",
   "pygments_lexer": "ipython3",
   "version": "3.11.9"
  }
 },
 "nbformat": 4,
 "nbformat_minor": 2
}
