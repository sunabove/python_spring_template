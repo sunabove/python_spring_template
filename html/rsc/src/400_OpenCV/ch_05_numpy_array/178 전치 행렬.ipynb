{
 "cells": [
  {
   "cell_type": "code",
   "execution_count": 1,
   "metadata": {},
   "outputs": [
    {
     "name": "stdout",
     "output_type": "stream",
     "text": [
      "a.shape =  (2, 3)\n",
      "a =\n",
      "[[1 2 3]\n",
      " [4 5 6]]\n",
      "a.T = \n",
      "[[1 4]\n",
      " [2 5]\n",
      " [3 6]]\n",
      "----------------------------------------\n",
      "b.shape =  (1, 3)\n",
      "b = \n",
      "[[1 2 3]]\n",
      "b.T = \n",
      "[[1]\n",
      " [2]\n",
      " [3]]\n",
      "----------------------------------------\n",
      "c.shape =  (3,)\n",
      "c = \n",
      "[1 2 3]\n",
      "c.T = \n",
      "[1 2 3]\n"
     ]
    }
   ],
   "source": [
    "import numpy as np \n",
    "\n",
    "a = np.array( [ [1, 2, 3 ], [4, 5, 6] ] )\n",
    "b = np.array( [ [1, 2, 3 ] ] )\n",
    "c = np.array( [1, 2, 3 ] )\n",
    "\n",
    "print( \"a.shape = \", a.shape )\n",
    "print( \"a =\", a, sep=\"\\n\" )\n",
    "print( \"a.T = \", a.T, sep=\"\\n\" )\n",
    "\n",
    "print( \"-\"*40 )\n",
    "print( \"b.shape = \", b.shape )\n",
    "print( \"b = \", b, sep=\"\\n\" )\n",
    "print( \"b.T = \", b.T, sep=\"\\n\" )\n",
    "\n",
    "print( \"-\"*40 )\n",
    "print( \"c.shape = \", c.shape )\n",
    "print( \"c = \", c, sep=\"\\n\" )\n",
    "print( \"c.T = \", c.T, sep=\"\\n\" )"
   ]
  }
 ],
 "metadata": {
  "kernelspec": {
   "display_name": "Python 3",
   "language": "python",
   "name": "python3"
  },
  "language_info": {
   "codemirror_mode": {
    "name": "ipython",
    "version": 3
   },
   "file_extension": ".py",
   "mimetype": "text/x-python",
   "name": "python",
   "nbconvert_exporter": "python",
   "pygments_lexer": "ipython3",
   "version": "3.11.9"
  }
 },
 "nbformat": 4,
 "nbformat_minor": 2
}
