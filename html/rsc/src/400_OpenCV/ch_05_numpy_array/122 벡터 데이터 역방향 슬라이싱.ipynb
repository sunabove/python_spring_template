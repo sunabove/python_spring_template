{
 "cells": [
  {
   "cell_type": "code",
   "execution_count": 9,
   "metadata": {},
   "outputs": [
    {
     "name": "stdout",
     "output_type": "stream",
     "text": [
      "a           = [1 2 3 4 5]\n",
      "np.flip(a)  = [5 4 3 2 1]\n",
      "a[::-1]     = [5 4 3 2 1]\n",
      "a[4::-1]    = [5 4 3 2 1]\n",
      "a[-1::-1]   = [5 4 3 2 1]\n"
     ]
    }
   ],
   "source": [
    "# Numpy 배열 역방향 슬라이싱\n",
    "import numpy as np\n",
    "\n",
    "a = np.arange( 1, 6 )\n",
    "\n",
    "print( \"a           =\", a )\n",
    "print( \"np.flip(a)  =\", np.flip(a) )\n",
    "print( \"a[::-1]     =\", a[::-1] )\n",
    "print( \"a[4::-1]    =\", a[4::-1] ) \n",
    "print( \"a[-1::-1]   =\", a[-1::-1] )\n"
   ]
  }
 ],
 "metadata": {
  "kernelspec": {
   "display_name": "Python 3",
   "language": "python",
   "name": "python3"
  },
  "language_info": {
   "codemirror_mode": {
    "name": "ipython",
    "version": 3
   },
   "file_extension": ".py",
   "mimetype": "text/x-python",
   "name": "python",
   "nbconvert_exporter": "python",
   "pygments_lexer": "ipython3",
   "version": "3.11.9"
  }
 },
 "nbformat": 4,
 "nbformat_minor": 2
}
