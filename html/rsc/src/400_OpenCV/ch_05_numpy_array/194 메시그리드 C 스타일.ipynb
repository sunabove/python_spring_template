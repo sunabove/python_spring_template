{
 "cells": [
  {
   "cell_type": "code",
   "execution_count": 1,
   "metadata": {},
   "outputs": [
    {
     "name": "stdout",
     "output_type": "stream",
     "text": [
      "a = np.empty( (2, 3), np.int8 )\n",
      "[[  8 -15   3]\n",
      " [  3   1   9]]\n",
      "--------------------------------------------------\n",
      "a = \n",
      "[[ 0  1  2]\n",
      " [-1  0  1]]\n"
     ]
    }
   ],
   "source": [
    "import numpy as np\n",
    "\n",
    "# C 코딩 스타일\n",
    "a = np.empty( (2, 3), np.int8 )\n",
    "\n",
    "print( \"a = np.empty( (2, 3), np.int8 )\", a, sep=\"\\n\" )\n",
    "print( \"-\"*50 )\n",
    "\n",
    "for i in range(2):\n",
    "    for j in range(3) :\n",
    "        a[ i, j ] = ( j - i )\n",
    "    pass\n",
    "pass\n",
    "\n",
    "print( \"a = \", a, sep=\"\\n\") "
   ]
  }
 ],
 "metadata": {
  "kernelspec": {
   "display_name": "Python 3",
   "language": "python",
   "name": "python3"
  },
  "language_info": {
   "codemirror_mode": {
    "name": "ipython",
    "version": 3
   },
   "file_extension": ".py",
   "mimetype": "text/x-python",
   "name": "python",
   "nbconvert_exporter": "python",
   "pygments_lexer": "ipython3",
   "version": "3.11.9"
  },
  "orig_nbformat": 4
 },
 "nbformat": 4,
 "nbformat_minor": 2
}
