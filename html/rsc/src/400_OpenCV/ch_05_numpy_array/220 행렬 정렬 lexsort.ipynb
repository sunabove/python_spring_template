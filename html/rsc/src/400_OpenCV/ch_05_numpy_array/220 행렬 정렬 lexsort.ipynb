{
 "cells": [
  {
   "cell_type": "code",
   "execution_count": 1,
   "metadata": {},
   "outputs": [
    {
     "name": "stdout",
     "output_type": "stream",
     "text": [
      "a = \n",
      "[[3 4]\n",
      " [2 7]\n",
      " [1 5]\n",
      " [2 6]]\n",
      "--------------------------------------------------\n",
      "b = np.rot90(a) \n",
      "[[4 7 5 6]\n",
      " [3 2 1 2]]\n",
      "--------------------------------------------------\n",
      "c = np.lexsort( b )  [2 3 1 0]\n",
      "--------------------------------------------------\n",
      "a[c] = \n",
      "[[1 5]\n",
      " [2 6]\n",
      " [2 7]\n",
      " [3 4]]\n"
     ]
    }
   ],
   "source": [
    "import numpy as np\n",
    "\n",
    "a = np.array( [ [3,4], [2, 7], [1, 5], [2, 6] ] )\n",
    "b = np.rot90(a)\n",
    "c = np.lexsort( b )\n",
    "d = a[c]\n",
    "\n",
    "print( 'a = ', a , sep='\\n' )\n",
    "print( \"-\"*50  )\n",
    "print( 'b = np.rot90(a) ', b , sep='\\n' )\n",
    "print( \"-\"*50  )\n",
    "print( 'c = np.lexsort( b ) ', c , )\n",
    "print( \"-\"*50  )\n",
    "print( 'a[c] = ', d , sep='\\n' )"
   ]
  }
 ],
 "metadata": {
  "kernelspec": {
   "display_name": "Python 3",
   "language": "python",
   "name": "python3"
  },
  "language_info": {
   "codemirror_mode": {
    "name": "ipython",
    "version": 3
   },
   "file_extension": ".py",
   "mimetype": "text/x-python",
   "name": "python",
   "nbconvert_exporter": "python",
   "pygments_lexer": "ipython3",
   "version": "3.11.9"
  },
  "orig_nbformat": 4
 },
 "nbformat": 4,
 "nbformat_minor": 2
}
