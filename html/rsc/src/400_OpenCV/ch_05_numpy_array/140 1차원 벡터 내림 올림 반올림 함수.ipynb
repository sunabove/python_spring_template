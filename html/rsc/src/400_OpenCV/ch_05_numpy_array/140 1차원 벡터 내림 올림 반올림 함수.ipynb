{
 "cells": [
  {
   "cell_type": "code",
   "execution_count": 1,
   "metadata": {},
   "outputs": [
    {
     "name": "stdout",
     "output_type": "stream",
     "text": [
      "a = [1.1 1.5 1.9 2.5]\n",
      "내림 함수   np.floor( a ) = [1. 1. 1. 2.]\n",
      "올림 함수   np.ceil( a )  = [2. 2. 2. 3.]\n",
      "반올림 함수 np.round( a ) = [1. 2. 2. 2.]\n"
     ]
    }
   ],
   "source": [
    "import numpy as np\n",
    "\n",
    "a = np.array( [ 1.1, 1.5, 1.9, 2.5 ] )\n",
    "\n",
    "print( \"a =\", a )\n",
    "print( \"내림 함수   np.floor( a ) =\", np.floor( a ) )\n",
    "print( \"올림 함수   np.ceil( a )  =\", np.ceil( a ) )\n",
    "print( \"반올림 함수 np.round( a ) =\", np.round( a ) )\n"
   ]
  }
 ],
 "metadata": {
  "kernelspec": {
   "display_name": "Python 3",
   "language": "python",
   "name": "python3"
  },
  "language_info": {
   "codemirror_mode": {
    "name": "ipython",
    "version": 3
   },
   "file_extension": ".py",
   "mimetype": "text/x-python",
   "name": "python",
   "nbconvert_exporter": "python",
   "pygments_lexer": "ipython3",
   "version": "3.11.9"
  }
 },
 "nbformat": 4,
 "nbformat_minor": 2
}
