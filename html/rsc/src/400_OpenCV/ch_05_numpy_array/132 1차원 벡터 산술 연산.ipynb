{
 "cells": [
  {
   "cell_type": "code",
   "execution_count": 4,
   "metadata": {},
   "outputs": [
    {
     "name": "stdout",
     "output_type": "stream",
     "text": [
      "a =  [4 8 7 9 1 2 3]\n",
      "b =  [2 5 1 9 8 7 6]\n",
      "a + b  =  [ 6 13  8 18  9  9  9]\n",
      "a - b  =  [ 2  3  6  0 -7 -5 -3]\n",
      "a * b  =  [ 8 40  7 81  8 14 18]\n",
      "a / b  =  [2.         1.6        7.         1.         0.125      0.28571429\n",
      " 0.5       ]\n",
      "a // b =  [2 1 7 1 0 0 0]\n",
      "a ** b =  [       16     32768         7 387420489         1       128       729]\n"
     ]
    }
   ],
   "source": [
    "import numpy as np\n",
    "\n",
    "a = np.array( [4, 8, 7, 9, 1, 2 ,3] )\n",
    "b = np.array( [2, 5, 1, 9, 8, 7, 6] )\n",
    "\n",
    "print( \"a = \", a )\n",
    "print( \"b = \", b )\n",
    "print( \"a + b  = \", a + b )\n",
    "print( \"a - b  = \", a - b )\n",
    "print( \"a * b  = \", a * b )\n",
    "print( \"a / b  = \", a / b )\n",
    "print( \"a // b = \", a // b )\n",
    "print( \"a ** b = \", a ** b )\n"
   ]
  }
 ],
 "metadata": {
  "kernelspec": {
   "display_name": "Python 3",
   "language": "python",
   "name": "python3"
  },
  "language_info": {
   "codemirror_mode": {
    "name": "ipython",
    "version": 3
   },
   "file_extension": ".py",
   "mimetype": "text/x-python",
   "name": "python",
   "nbconvert_exporter": "python",
   "pygments_lexer": "ipython3",
   "version": "3.11.9"
  }
 },
 "nbformat": 4,
 "nbformat_minor": 2
}
