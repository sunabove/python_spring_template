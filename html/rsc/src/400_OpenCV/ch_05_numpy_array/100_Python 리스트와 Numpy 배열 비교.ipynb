{
 "cells": [
  {
   "cell_type": "code",
   "execution_count": 2,
   "metadata": {},
   "outputs": [
    {
     "name": "stdout",
     "output_type": "stream",
     "text": [
      "a = [1, 2, 3]\n",
      "b = [2, 4, 6]\n"
     ]
    }
   ],
   "source": [
    "# 리스트 연산\n",
    "a = [ 1, 2, 3 ]\n",
    "b = [ q*2 for q in a ]\n",
    "print( \"a =\", a )\n",
    "print( \"b =\", b )"
   ]
  },
  {
   "cell_type": "code",
   "execution_count": 3,
   "metadata": {},
   "outputs": [
    {
     "name": "stdout",
     "output_type": "stream",
     "text": [
      "a = [1 2 3]\n",
      "b = [2 4 6]\n"
     ]
    }
   ],
   "source": [
    "# Numpy 연산\n",
    "import numpy as np\n",
    "a = np.array( [ 1, 2, 3 ] )\n",
    "b = a*2\n",
    "print( \"a =\", a )\n",
    "print( \"b =\", b )"
   ]
  },
  {
   "cell_type": "code",
   "execution_count": 4,
   "metadata": {},
   "outputs": [
    {
     "name": "stdout",
     "output_type": "stream",
     "text": [
      "a = [1, 2, 3]\n",
      "b = [4, 5, 6]\n",
      "c = [4, 10, 18]\n"
     ]
    }
   ],
   "source": [
    "# 리스트 연산\n",
    "a = [ 1, 2, 3 ]\n",
    "b = [ 4, 5, 6 ]\n",
    "c = [ q*r for q, r in zip(a, b) ]\n",
    "print( \"a =\", a )\n",
    "print( \"b =\", b )\n",
    "print( \"c =\", c )"
   ]
  },
  {
   "cell_type": "code",
   "execution_count": 5,
   "metadata": {},
   "outputs": [
    {
     "name": "stdout",
     "output_type": "stream",
     "text": [
      "a = [1 2 3]\n",
      "b = [4 5 6]\n",
      "c = [ 4 10 18]\n"
     ]
    }
   ],
   "source": [
    "# Numpy 연산\n",
    "a = np.array( [ 1, 2, 3 ] )\n",
    "b = np.array( [ 4, 5, 6 ] )\n",
    "c = a * b\n",
    "print( \"a =\", a )\n",
    "print( \"b =\", b )\n",
    "print( \"c =\", c )"
   ]
  }
 ],
 "metadata": {
  "interpreter": {
   "hash": "ac59ebe37160ed0dfa835113d9b8498d9f09ceb179beaac4002f036b9467c963"
  },
  "kernelspec": {
   "display_name": "Python 3.9.7 64-bit",
   "name": "python3"
  },
  "language_info": {
   "codemirror_mode": {
    "name": "ipython",
    "version": 3
   },
   "file_extension": ".py",
   "mimetype": "text/x-python",
   "name": "python",
   "nbconvert_exporter": "python",
   "pygments_lexer": "ipython3",
   "version": "3.11.9"
  }
 },
 "nbformat": 4,
 "nbformat_minor": 2
}
