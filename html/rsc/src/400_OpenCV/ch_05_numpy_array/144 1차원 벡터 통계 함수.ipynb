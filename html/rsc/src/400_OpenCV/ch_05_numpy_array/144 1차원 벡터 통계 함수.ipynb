{
 "cells": [
  {
   "cell_type": "code",
   "execution_count": 6,
   "metadata": {},
   "outputs": [
    {
     "name": "stdout",
     "output_type": "stream",
     "text": [
      "합       : a.sum()  = 15\n",
      "평균     : a.mean() = 3.0\n",
      "분산     : a.var()  = 2.0\n",
      "표준편차 : a.std()  = 1.4142135623730951\n"
     ]
    }
   ],
   "source": [
    "import numpy as np \n",
    "\n",
    "a = np.array( [ 1, 2, 3, 4,5 ] )\n",
    "\n",
    "print( \"합       : a.sum()  =\", a.sum() )\n",
    "print( \"평균     : a.mean() =\", a.mean() )\n",
    "print( \"분산     : a.var()  =\", a.var() )\n",
    "print( \"표준편차 : a.std()  =\", a.std() )"
   ]
  }
 ],
 "metadata": {
  "kernelspec": {
   "display_name": "Python 3",
   "language": "python",
   "name": "python3"
  },
  "language_info": {
   "codemirror_mode": {
    "name": "ipython",
    "version": 3
   },
   "file_extension": ".py",
   "mimetype": "text/x-python",
   "name": "python",
   "nbconvert_exporter": "python",
   "pygments_lexer": "ipython3",
   "version": "3.11.9"
  }
 },
 "nbformat": 4,
 "nbformat_minor": 2
}
