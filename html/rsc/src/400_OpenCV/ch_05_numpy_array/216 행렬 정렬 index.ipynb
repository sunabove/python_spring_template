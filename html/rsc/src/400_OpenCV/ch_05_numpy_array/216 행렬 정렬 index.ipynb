{
 "cells": [
  {
   "cell_type": "code",
   "execution_count": null,
   "metadata": {},
   "outputs": [
    {
     "name": "stdout",
     "output_type": "stream",
     "text": [
      "a =  [7 4 6 5]\n",
      "b = np.argsort( a ) =  [1 3 2 0]\n",
      "a[ b ] =  [4 5 6 7]\n",
      "--------------------------------------------------\n",
      "a = \n",
      "[[7 2 9]\n",
      " [4 3 8]\n",
      " [6 1 7]\n",
      " [5 0 4]]\n",
      "b = np.argsort( a[:, 0] ) =  [1 3 2 0]\n",
      "a[ b ] = \n",
      "[[4 3 8]\n",
      " [5 0 4]\n",
      " [6 1 7]\n",
      " [7 2 9]]\n"
     ]
    }
   ],
   "source": [
    "import numpy as np\n",
    "\n",
    "a = np.array( [7, 4, 6, 5] )\n",
    "b = np.argsort( a )\n",
    "c = a[ b ]\n",
    "\n",
    "print( 'a = ', a )\n",
    "print( 'b = np.argsort( a ) = ', b )\n",
    "print( 'a[ b ] = ', c )\n",
    "print( \"-\"*50  )\n",
    "\n",
    "# 인덱스 순서, 수직(row, 행, y), 수평(column, 렬, x)\n",
    "# 깊이(depth, z)\n",
    "\n",
    "a = np.array( [ [7, 2, 9], [4, 3, 8],\n",
    "               [6, 1, 7], [5, 0,4] ]  )\n",
    "\n",
    "b = np.argsort( a[ : , 0 ] )\n",
    "c = a[ b ]\n",
    "print( 'a = ', a, sep='\\n' )\n",
    "print( 'b = np.argsort( a[:, 0] ) = ', b )\n",
    "print( 'a[ b ] = ', c, sep='\\n' )"
   ]
  }
 ],
 "metadata": {
  "kernelspec": {
   "display_name": "Python 3",
   "language": "python",
   "name": "python3"
  },
  "language_info": {
   "codemirror_mode": {
    "name": "ipython",
    "version": 3
   },
   "file_extension": ".py",
   "mimetype": "text/x-python",
   "name": "python",
   "nbconvert_exporter": "python",
   "pygments_lexer": "ipython3",
   "version": "3.11.9"
  },
  "orig_nbformat": 4
 },
 "nbformat": 4,
 "nbformat_minor": 2
}
