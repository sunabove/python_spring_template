{
 "cells": [
  {
   "cell_type": "code",
   "execution_count": 1,
   "metadata": {},
   "outputs": [
    {
     "name": "stdout",
     "output_type": "stream",
     "text": [
      "a = \n",
      "[[1 2 3]\n",
      " [4 5 6]\n",
      " [7 8 9]]\n",
      "------------------------------\n",
      "a/9 =\n",
      "[[0.11111111 0.22222222 0.33333333]\n",
      " [0.44444444 0.55555556 0.66666667]\n",
      " [0.77777778 0.88888889 1.        ]]\n",
      "------------------------------\n",
      "a = \n",
      "[[1 2 3]\n",
      " [4 5 6]\n",
      " [7 8 9]]\n",
      "------------------------------\n",
      "b = \n",
      "[-1  0  1]\n",
      "------------------------------\n",
      "a*b =\n",
      "[[-1  0  3]\n",
      " [-4  0  6]\n",
      " [-7  0  9]]\n",
      "------------------------------\n"
     ]
    }
   ],
   "source": [
    "import numpy as np \n",
    "\n",
    "a = np.array( [ [1, 2, 3 ], [4, 5, 6], [7, 8, 9] ] )\n",
    "b = np.array( [ -1, 0, 1 ] )\n",
    "c = np.array( [ [3], [6], [9] ] )\n",
    "d = np.array( [ [1], [2], [3] ] )\n",
    "\n",
    "print( \"a = \", a, sep=\"\\n\" )\n",
    "print( \"-\"*30 )\n",
    "print( \"a/9 =\", a/9, sep=\"\\n\" )\n",
    "print( \"-\"*30 )\n",
    "\n",
    "print( \"a = \", a, sep=\"\\n\" )\n",
    "print( \"-\"*30 )\n",
    "print( \"b = \", b, sep=\"\\n\" )\n",
    "print( \"-\"*30 )\n",
    "print( \"a*b =\", a*b, sep=\"\\n\" )\n",
    "print( \"-\"*30 ) "
   ]
  }
 ],
 "metadata": {
  "kernelspec": {
   "display_name": "Python 3",
   "language": "python",
   "name": "python3"
  },
  "language_info": {
   "codemirror_mode": {
    "name": "ipython",
    "version": 3
   },
   "file_extension": ".py",
   "mimetype": "text/x-python",
   "name": "python",
   "nbconvert_exporter": "python",
   "pygments_lexer": "ipython3",
   "version": "3.11.9"
  }
 },
 "nbformat": 4,
 "nbformat_minor": 2
}
