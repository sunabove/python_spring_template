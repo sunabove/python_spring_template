{
 "cells": [
  {
   "cell_type": "code",
   "execution_count": 1,
   "metadata": {},
   "outputs": [
    {
     "name": "stdout",
     "output_type": "stream",
     "text": [
      "np.random.randn(3,2)\n",
      "[[-0.46515465  0.76102494]\n",
      " [-0.75774755 -1.60788801]\n",
      " [-0.7298509   1.4873847 ]]\n",
      "----------------------------------------\n",
      "np.random.normal(10, 2, (3,2) )\n",
      "[[ 9.27240553 10.55352749]\n",
      " [12.42729361  9.14903855]\n",
      " [ 8.06847585 10.43733152]]\n",
      "----------------------------------------\n"
     ]
    }
   ],
   "source": [
    "import numpy as np \n",
    "\n",
    "# 3x2 행렬, 평균 1, 표준편차 0인 실수 값으로 정규분포 초기화\n",
    "d = np.random.randn(3,2) \n",
    "print( \"np.random.randn(3,2)\", d, sep=\"\\n\" )\n",
    "print( \"-\"*40 )\n",
    "\n",
    "# 3x2 행렬, 평균 10, 표준편차 2인 실수 값으로 정규분포 초기화\n",
    "f = np.random.normal(10, 2, (3,2) )\n",
    "print( \"np.random.normal(10, 2, (3,2) )\", f, sep=\"\\n\" )\n",
    "print( \"-\"*40 )\n"
   ]
  }
 ],
 "metadata": {
  "kernelspec": {
   "display_name": "Python 3",
   "language": "python",
   "name": "python3"
  },
  "language_info": {
   "codemirror_mode": {
    "name": "ipython",
    "version": 3
   },
   "file_extension": ".py",
   "mimetype": "text/x-python",
   "name": "python",
   "nbconvert_exporter": "python",
   "pygments_lexer": "ipython3",
   "version": "3.11.9"
  }
 },
 "nbformat": 4,
 "nbformat_minor": 2
}
