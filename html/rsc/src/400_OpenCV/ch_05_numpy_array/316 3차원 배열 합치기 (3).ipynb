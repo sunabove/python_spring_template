{
 "cells": [
  {
   "cell_type": "code",
   "execution_count": 3,
   "metadata": {},
   "outputs": [
    {
     "name": "stdout",
     "output_type": "stream",
     "text": [
      "a = \n",
      "[[[ 1  2  3  4]\n",
      "  [ 5  6  7  8]\n",
      "  [ 9 10 11 12]]\n",
      "\n",
      " [[13 14 15 16]\n",
      "  [17 18 19 20]\n",
      "  [21 22 23 24]]]\n",
      "------------------------------------------------------------\n",
      "a.shape =  (2, 3, 4)\n",
      "------------------------------------------------------------\n",
      "b = \n",
      "[[[ 1  2  3  4]\n",
      "  [ 5  6  7  8]\n",
      "  [ 9 10 11 12]]\n",
      "\n",
      " [[13 14 15 16]\n",
      "  [17 18 19 20]\n",
      "  [21 22 23 24]]]\n",
      "------------------------------------------------------------\n",
      "b.shape =  (2, 3, 4)\n",
      "------------------------------------------------------------\n",
      "c = \n",
      "[[[ 1  2  3  4]\n",
      "  [ 5  6  7  8]\n",
      "  [ 9 10 11 12]]\n",
      "\n",
      " [[13 14 15 16]\n",
      "  [17 18 19 20]\n",
      "  [21 22 23 24]]\n",
      "\n",
      " [[ 1  2  3  4]\n",
      "  [ 5  6  7  8]\n",
      "  [ 9 10 11 12]]\n",
      "\n",
      " [[13 14 15 16]\n",
      "  [17 18 19 20]\n",
      "  [21 22 23 24]]]\n",
      "------------------------------------------------------------\n",
      "c.shape =  (4, 3, 4)\n",
      "------------------------------------------------------------\n"
     ]
    }
   ],
   "source": [
    "import numpy as np\n",
    "\n",
    "a = np.arange(1, 25).reshape(2, 3, 4)\n",
    "b = np.arange(1, 25).reshape(2, 3, 4)\n",
    "c = np.concatenate( (a, b ), axis=0 )\n",
    "\n",
    "print( \"a = \", a, sep=\"\\n\" )\n",
    "print( \"-\"*60  ) \n",
    "print( \"a.shape = \", a.shape )\n",
    "print( \"-\"*60  ) \n",
    "\n",
    "print( \"b = \", b, sep=\"\\n\" )\n",
    "print( \"-\"*60  ) \n",
    "print( \"b.shape = \", b.shape )\n",
    "print( \"-\"*60  ) \n",
    "\n",
    "print( \"c = \", c, sep=\"\\n\" )\n",
    "print( \"-\"*60  ) \n",
    "print( \"c.shape = \", c.shape )\n",
    "print( \"-\"*60  ) "
   ]
  }
 ],
 "metadata": {
  "kernelspec": {
   "display_name": "Python 3",
   "language": "python",
   "name": "python3"
  },
  "language_info": {
   "codemirror_mode": {
    "name": "ipython",
    "version": 3
   },
   "file_extension": ".py",
   "mimetype": "text/x-python",
   "name": "python",
   "nbconvert_exporter": "python",
   "pygments_lexer": "ipython3",
   "version": "3.11.9"
  },
  "orig_nbformat": 4
 },
 "nbformat": 4,
 "nbformat_minor": 2
}
