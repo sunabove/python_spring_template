{
 "cells": [
  {
   "cell_type": "code",
   "execution_count": 1,
   "metadata": {},
   "outputs": [
    {
     "name": "stdout",
     "output_type": "stream",
     "text": [
      "a = [0.4 0.5 0.6 0.7]\n",
      "b = [0.5 0.6 0.7 0.8]\n",
      "c = [0.5 0.6 0.7]\n",
      "d = [0.5 0.6 0.7]\n",
      "e = [0.         0.02040816 0.04081633 0.06122449 0.08163265 0.10204082\n",
      " 0.12244898 0.14285714 0.16326531 0.18367347 0.20408163 0.2244898\n",
      " 0.24489796 0.26530612 0.28571429 0.30612245 0.32653061 0.34693878\n",
      " 0.36734694 0.3877551  0.40816327 0.42857143 0.44897959 0.46938776\n",
      " 0.48979592 0.51020408 0.53061224 0.55102041 0.57142857 0.59183673\n",
      " 0.6122449  0.63265306 0.65306122 0.67346939 0.69387755 0.71428571\n",
      " 0.73469388 0.75510204 0.7755102  0.79591837 0.81632653 0.83673469\n",
      " 0.85714286 0.87755102 0.89795918 0.91836735 0.93877551 0.95918367\n",
      " 0.97959184 1.        ]\n"
     ]
    }
   ],
   "source": [
    "import numpy as np\n",
    "\n",
    "# 1차원 배열 초기화\n",
    "a = np.arange( 0.4, 0.8, 0.1 )\n",
    "b = np.arange( 0.5, 0.8, 0.1 )\n",
    "c = np.arange( 0.5, 0.75, 0.1 )\n",
    "\n",
    "d = np.linspace( 0.5, 0.7, 3 )\n",
    "e = np.linspace( 0, 1 )\n",
    "\n",
    "# 배열 값 출력\n",
    "print( \"a =\", a )\n",
    "print( \"b =\", b )\n",
    "print( \"c =\", c )\n",
    "print( \"d =\", d )\n",
    "print( \"e =\", e )"
   ]
  }
 ],
 "metadata": {
  "kernelspec": {
   "display_name": "Python 3",
   "language": "python",
   "name": "python3"
  },
  "language_info": {
   "codemirror_mode": {
    "name": "ipython",
    "version": 3
   },
   "file_extension": ".py",
   "mimetype": "text/x-python",
   "name": "python",
   "nbconvert_exporter": "python",
   "pygments_lexer": "ipython3",
   "version": "3.11.9"
  }
 },
 "nbformat": 4,
 "nbformat_minor": 2
}
