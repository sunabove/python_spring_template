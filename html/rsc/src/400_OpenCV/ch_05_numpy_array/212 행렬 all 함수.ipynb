{
 "cells": [
  {
   "cell_type": "code",
   "execution_count": 6,
   "metadata": {},
   "outputs": [
    {
     "name": "stdout",
     "output_type": "stream",
     "text": [
      "a =\n",
      "[[ 6  7  8]\n",
      " [ 9 10 11]]\n",
      "--------------------------------------------------\n",
      "np.all( a>5 ) = True\n",
      "np.all( a>5, axis=0 ) = [ True  True  True]\n",
      "np.all( a>5, axis=1 ) = [ True  True]\n"
     ]
    }
   ],
   "source": [
    "import numpy as np \n",
    "\n",
    "a = np.arange( 6, 12 ).reshape( 2, -1 )\n",
    "\n",
    "print( \"a =\", a, sep=\"\\n\" )\n",
    "print( \"-\"*50  )\n",
    "print( \"np.all( a>5 ) =\", np.all( a>5 ) )\n",
    "print( \"np.all( a>5, axis=0 ) =\", np.all( a>5, axis=0 ) )\n",
    "print( \"np.all( a>5, axis=1 ) =\", np.all( a>5, axis=1 ) )"
   ]
  }
 ],
 "metadata": {
  "kernelspec": {
   "display_name": "Python 3",
   "language": "python",
   "name": "python3"
  },
  "language_info": {
   "codemirror_mode": {
    "name": "ipython",
    "version": 3
   },
   "file_extension": ".py",
   "mimetype": "text/x-python",
   "name": "python",
   "nbconvert_exporter": "python",
   "pygments_lexer": "ipython3",
   "version": "3.11.9"
  },
  "orig_nbformat": 4
 },
 "nbformat": 4,
 "nbformat_minor": 2
}
