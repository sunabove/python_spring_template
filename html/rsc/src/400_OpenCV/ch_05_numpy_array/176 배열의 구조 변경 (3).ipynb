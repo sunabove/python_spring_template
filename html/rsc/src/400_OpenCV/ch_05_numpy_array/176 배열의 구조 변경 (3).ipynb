{
 "cells": [
  {
   "cell_type": "code",
   "execution_count": 3,
   "metadata": {},
   "outputs": [
    {
     "name": "stdout",
     "output_type": "stream",
     "text": [
      "a = \n",
      "[[8 0 0 6]\n",
      " [1 4 3 0]\n",
      " [0 3 1 9]]\n",
      "a address =  0x2b29dc2e550\n",
      "------------------------------\n",
      "b = \n",
      "[[8 0 0 6]\n",
      " [1 4 3 0]\n",
      " [0 3 1 9]]\n",
      "b address  0x2b29dc2e3d0\n",
      "------------------------------\n",
      "a = \n",
      "[[8 0 0 6 1 4]\n",
      " [3 0 0 3 1 9]]\n",
      "a address =  0x2b29dc2e550\n",
      "------------------------------\n"
     ]
    }
   ],
   "source": [
    "import numpy as np\n",
    "\n",
    "a = np.array( [ [8, 0, 0, 6], [1, 4, 3, 0], [0, 3, 1, 9] ] )\n",
    "\n",
    "print( \"a = \", a, sep=\"\\n\" ) \n",
    "print( \"a address = \", hex(id(a)) )\n",
    "print( \"-\"*30 )\n",
    "\n",
    "b = a.reshape( 3, -1 )\n",
    "print( \"b = \", b, sep=\"\\n\" )\n",
    "print( \"b address \", hex(id(b)) )\n",
    "print( \"-\"*30 )\n",
    "\n",
    "a.resize( 2, 6 )\n",
    "print( \"a = \", a, sep=\"\\n\" )\n",
    "print( \"a address = \", hex(id(a)) )\n",
    "print( \"-\"*30 )"
   ]
  }
 ],
 "metadata": {
  "kernelspec": {
   "display_name": "Python 3",
   "language": "python",
   "name": "python3"
  },
  "language_info": {
   "codemirror_mode": {
    "name": "ipython",
    "version": 3
   },
   "file_extension": ".py",
   "mimetype": "text/x-python",
   "name": "python",
   "nbconvert_exporter": "python",
   "pygments_lexer": "ipython3",
   "version": "3.11.9"
  }
 },
 "nbformat": 4,
 "nbformat_minor": 2
}
