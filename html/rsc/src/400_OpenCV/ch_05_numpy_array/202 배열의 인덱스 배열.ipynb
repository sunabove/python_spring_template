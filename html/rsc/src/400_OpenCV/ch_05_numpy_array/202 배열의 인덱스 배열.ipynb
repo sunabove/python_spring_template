{
 "cells": [
  {
   "cell_type": "code",
   "execution_count": null,
   "metadata": {},
   "outputs": [
    {
     "name": "stdout",
     "output_type": "stream",
     "text": [
      "np.arange( 1, 5 ) =  [1 2 3 4]\n",
      "----------------------------------------\n",
      "a.shape =  (2, 2)\n",
      "----------------------------------------\n",
      "a = \n",
      "[[1 2]\n",
      " [3 4]]\n",
      "----------------------------------------\n",
      "i = \n",
      "[[0 0]\n",
      " [1 1]]\n",
      "----------------------------------------\n",
      "j = \n",
      "[[0 1]\n",
      " [0 1]]\n",
      "----------------------------------------\n",
      "b = a[ i, j ]\n",
      "[[1 2]\n",
      " [3 4]]\n",
      "----------------------------------------\n",
      "c = a[ j, i ]\n",
      "[[1 3]\n",
      " [2 4]]\n",
      "----------------------------------------\n"
     ]
    }
   ],
   "source": [
    "import numpy as np\n",
    "\n",
    "print( \"np.arange( 1, 5 ) = \", np.arange( 1, 5 ) )\n",
    "print( \"-\"*40 )\n",
    "\n",
    "a = np.arange( 1, 5 ).reshape( -1, 2 )\n",
    "print( \"a.shape = \", a.shape )\n",
    "\n",
    "i , j = np.indices( a.shape )\n",
    "\n",
    "b = a[ i, j ]\n",
    "\n",
    "c = a[ j, i ] \n",
    "\n",
    "print( \"-\"*40 )\n",
    "print( \"a = \", a, \"-\"*40, sep=\"\\n\" )\n",
    "print( \"i = \", i, \"-\"*40, sep=\"\\n\" )\n",
    "print( \"j = \", j, \"-\"*40, sep=\"\\n\" )\n",
    "print( \"b = a[ i, j ]\", b, \"-\"*40, sep=\"\\n\" )\n",
    "print( \"c = a[ j, i ]\", c, \"-\"*40, sep=\"\\n\" )"
   ]
  }
 ],
 "metadata": {
  "kernelspec": {
   "display_name": "Python 3",
   "language": "python",
   "name": "python3"
  },
  "language_info": {
   "codemirror_mode": {
    "name": "ipython",
    "version": 3
   },
   "file_extension": ".py",
   "mimetype": "text/x-python",
   "name": "python",
   "nbconvert_exporter": "python",
   "pygments_lexer": "ipython3",
   "version": "3.11.9"
  },
  "orig_nbformat": 4
 },
 "nbformat": 4,
 "nbformat_minor": 2
}
