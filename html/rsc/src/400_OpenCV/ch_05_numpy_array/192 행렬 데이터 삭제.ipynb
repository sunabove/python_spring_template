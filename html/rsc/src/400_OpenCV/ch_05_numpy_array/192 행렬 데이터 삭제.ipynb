{
 "cells": [
  {
   "cell_type": "code",
   "execution_count": null,
   "metadata": {},
   "outputs": [
    {
     "name": "stdout",
     "output_type": "stream",
     "text": [
      "o = np.arange(1, 16)\n",
      "[ 1  2  3  4  5  6  7  8  9 10 11 12 13 14 15]\n",
      "----------------------------------------\n",
      "a = np.arange(1, 16).reshape(3, -1)\n",
      "[[ 1  2  3  4  5]\n",
      " [ 6  7  8  9 10]\n",
      " [11 12 13 14 15]]\n",
      "----------------------------------------\n",
      "b = np.delete(a.copy(), [1, 3], axis=1)\n",
      "[[ 1  3  5]\n",
      " [ 6  8 10]\n",
      " [11 13 15]]\n",
      "----------------------------------------\n",
      "c = np.delete(a.copy(), 1, axis=0)\n",
      "[[ 1  2  3  4  5]\n",
      " [11 12 13 14 15]]\n",
      "----------------------------------------\n",
      "d = np.delete(a.copy(), np.s_[1:-1], axis=1)\n",
      "[[ 1  5]\n",
      " [ 6 10]\n",
      " [11 15]]\n",
      "----------------------------------------\n",
      "e = np.delete(a.copy(), slice(1,-1), axis=1)\n",
      "[[ 1  5]\n",
      " [ 6 10]\n",
      " [11 15]]\n"
     ]
    }
   ],
   "source": [
    "import numpy as np\n",
    "\n",
    "o = np.arange(1, 16)\n",
    "a = np.arange(1, 16).reshape(3, -1)  \n",
    "b = np.delete(a.copy(), [1, 3], axis=1)\n",
    "c = np.delete(a.copy(), 1, axis=0)\n",
    "d = np.delete(a.copy(), np.s_[1:-1], axis=1)\n",
    "e = np.delete(a.copy(), slice(1,-1), axis=1)\n",
    "print( \"o = np.arange(1, 16)\", o, sep=\"\\n\" )\n",
    "print( \"-\"*40 )\n",
    "print( \"a = np.arange(1, 16).reshape(3, -1)\", a, sep=\"\\n\" )\n",
    "print( \"-\"*40 )\n",
    "print( \"b = np.delete(a.copy(), [1, 3], axis=1)\", b, sep=\"\\n\" )\n",
    "print( \"-\"*40 )\n",
    "print( \"c = np.delete(a.copy(), 1, axis=0)\", c, sep=\"\\n\" )\n",
    "print( \"-\"*40 ) \n",
    "print( \"d = np.delete(a.copy(), np.s_[1:-1], axis=1)\", d, sep=\"\\n\" )\n",
    "print( \"-\"*40 )\n",
    "print( \"e = np.delete(a.copy(), slice(1,-1), axis=1)\", e, sep=\"\\n\" )"
   ]
  }
 ],
 "metadata": {
  "kernelspec": {
   "display_name": "Python 3",
   "language": "python",
   "name": "python3"
  },
  "language_info": {
   "codemirror_mode": {
    "name": "ipython",
    "version": 3
   },
   "file_extension": ".py",
   "mimetype": "text/x-python",
   "name": "python",
   "nbconvert_exporter": "python",
   "pygments_lexer": "ipython3",
   "version": "3.11.9"
  }
 },
 "nbformat": 4,
 "nbformat_minor": 2
}
