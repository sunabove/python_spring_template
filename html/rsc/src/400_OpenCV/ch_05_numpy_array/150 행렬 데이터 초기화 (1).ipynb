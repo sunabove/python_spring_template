{
 "cells": [
  {
   "cell_type": "code",
   "execution_count": 5,
   "metadata": {},
   "outputs": [
    {
     "name": "stdout",
     "output_type": "stream",
     "text": [
      "a =\n",
      "[[1 2 3]\n",
      " [4 5 6]]\n",
      "a.dtype = int64\n",
      "a.shape = (2, 3)\n",
      "----------------------------------------\n",
      "np.zeros( (3, 2) )\n",
      "[[0. 0.]\n",
      " [0. 0.]\n",
      " [0. 0.]]\n",
      "b.dtype = float64\n",
      "b.shape = (3, 2)\n",
      "----------------------------------------\n",
      "np.ones( (3, 2) )\n",
      "[[1. 1.]\n",
      " [1. 1.]\n",
      " [1. 1.]]\n",
      "c.dtype = float64\n",
      "c.shape = (3, 2)\n"
     ]
    }
   ],
   "source": [
    "import numpy as np \n",
    "\n",
    "a = np.array( [ [1, 2, 3 ], [4, 5, 6] ] )\n",
    "\n",
    "print( \"a =\", a, sep=\"\\n\")\n",
    "print( \"a.dtype =\", a.dtype ) # 행렬 데이터 타입\n",
    "print( \"a.shape =\", a.shape ) # 행렬 구조\n",
    "\n",
    "print( \"-\"*40 )\n",
    "b = np.zeros( (3, 2) ) # 렬 갯수 3, 행 갯수 2의 행렬 생성\n",
    "print( \"np.zeros( (3, 2) )\", b, sep=\"\\n\")\n",
    "print( \"b.dtype =\", b.dtype ) # 행렬 데이터 타입\n",
    "print( \"b.shape =\", b.shape ) # 행렬 구조\n",
    "\n",
    "print( \"-\"*40 )\n",
    "c = np.ones( (3, 2) ) # 렬 갯수 3, 행 갯수 2의 행렬 생성\n",
    "print( \"np.ones( (3, 2) )\", c, sep=\"\\n\")\n",
    "print( \"c.dtype =\", c.dtype ) # 행렬 데이터 타입\n",
    "print( \"c.shape =\", c.shape ) # 행렬 구조"
   ]
  }
 ],
 "metadata": {
  "kernelspec": {
   "display_name": "Python 3",
   "language": "python",
   "name": "python3"
  },
  "language_info": {
   "codemirror_mode": {
    "name": "ipython",
    "version": 3
   },
   "file_extension": ".py",
   "mimetype": "text/x-python",
   "name": "python",
   "nbconvert_exporter": "python",
   "pygments_lexer": "ipython3",
   "version": "3.11.9"
  }
 },
 "nbformat": 4,
 "nbformat_minor": 2
}
