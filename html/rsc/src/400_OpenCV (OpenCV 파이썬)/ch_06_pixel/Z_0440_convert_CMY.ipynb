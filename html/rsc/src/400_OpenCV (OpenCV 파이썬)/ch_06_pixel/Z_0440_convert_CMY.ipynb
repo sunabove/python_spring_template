{
 "cells": [
  {
   "cell_type": "code",
   "execution_count": null,
   "metadata": {},
   "outputs": [],
   "source": [
    "import numpy as np, cv2\n",
    "\n",
    "bgr_img = cv2.imread(\"img/color_model.jpg\", cv2.IMREAD_COLOR) # 컬러 영상 읽기\n",
    "\n",
    "white = np.array([255, 255, 255], np.uint8)\n",
    "cmy_img = white - bgr_img\n",
    "cyan, magenta, yellow = cv2.split(cmy_img) # 채널 분리\n",
    "\n",
    "titles = ['bgr_img','cmy_img','cyan','magenta','yellow']\n",
    "[cv2.imshow(t, eval(t)) for t in titles]\n",
    "\n",
    "cv2.waitKey(0)"
   ]
  },
  {
   "cell_type": "markdown",
   "metadata": {},
   "source": [
    "![result](img/13_result.png)"
   ]
  }
 ],
 "metadata": {
  "kernelspec": {
   "display_name": "Python 3",
   "language": "python",
   "name": "python3"
  },
  "language_info": {
   "codemirror_mode": {
    "name": "ipython",
    "version": 3
   },
   "file_extension": ".py",
   "mimetype": "text/x-python",
   "name": "python",
   "nbconvert_exporter": "python",
   "pygments_lexer": "ipython3",
   "version": "3.7.7"
  }
 },
 "nbformat": 4,
 "nbformat_minor": 4
}
