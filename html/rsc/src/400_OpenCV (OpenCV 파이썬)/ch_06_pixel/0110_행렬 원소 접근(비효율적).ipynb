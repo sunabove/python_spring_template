{
 "cells": [
  {
   "cell_type": "code",
   "execution_count": null,
   "metadata": {},
   "outputs": [
    {
     "name": "stdout",
     "output_type": "stream",
     "text": [
      "원소 처리 전: mat = \n",
      "[[0 1 2 3 4]\n",
      " [5 6 7 8 9]]\n",
      "mat.shape =  (2, 5)\n",
      "--------------------------------------------------\n",
      "원소 처리 후: mat = \n",
      "[[ 0  2  4  6  8]\n",
      " [10 12 14 16 18]]\n",
      "--------------------------------------------------\n"
     ]
    }
   ],
   "source": [
    "# 화소(행렬 원소) 접근\n",
    "import numpy as np\n",
    "\n",
    "# 화소의 반복 접근 비효율 적\n",
    "def mat_access( mat ): # c, python, Java style\n",
    "    for i in range( mat.shape[0] ):\n",
    "        for j in range( mat.shape[1] ):\n",
    "            k = mat [ i, j ] \n",
    "            mat[ i, j ] = k * 2  # 원소 할당\n",
    "        pass\n",
    "    pass\n",
    "pass \n",
    "\n",
    "mat = np.arange(10).reshape(2, -1) \n",
    "\n",
    "print(\"원소 처리 전: mat = \", mat, sep=\"\\n\")\n",
    "print(\"mat.shape = \", mat.shape )\n",
    "print( \"-\"*50 )\n",
    "\n",
    "mat_access(mat) # 2배씩 증가\n",
    "\n",
    "print(\"원소 처리 후: mat = \", mat, sep=\"\\n\") \n",
    "print( \"-\"*50 ) "
   ]
  }
 ],
 "metadata": {
  "kernelspec": {
   "display_name": "Python 3",
   "language": "python",
   "name": "python3"
  },
  "language_info": {
   "codemirror_mode": {
    "name": "ipython",
    "version": 3
   },
   "file_extension": ".py",
   "mimetype": "text/x-python",
   "name": "python",
   "nbconvert_exporter": "python",
   "pygments_lexer": "ipython3",
   "version": "3.11.9"
  }
 },
 "nbformat": 4,
 "nbformat_minor": 4
}
