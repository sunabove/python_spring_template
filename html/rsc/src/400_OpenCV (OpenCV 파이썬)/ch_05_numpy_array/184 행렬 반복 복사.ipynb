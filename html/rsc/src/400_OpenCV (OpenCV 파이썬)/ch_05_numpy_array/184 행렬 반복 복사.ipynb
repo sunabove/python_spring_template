{
 "cells": [
  {
   "cell_type": "code",
   "execution_count": 3,
   "metadata": {},
   "outputs": [
    {
     "name": "stdout",
     "output_type": "stream",
     "text": [
      "a1 = np.arange( 1, 5 )\n",
      "[1 2 3 4]\n",
      "----------------------------------------\n",
      "a2 = a.reshape( 2, -1 )\n",
      "[[1 2]\n",
      " [3 4]]\n",
      "----------------------------------------\n",
      "a3 = np.array([[1,2],[3,4]])\n",
      "[[1 2]\n",
      " [3 4]]\n",
      "----------------------------------------\n",
      "b = np.tile( a2, (2, 3) )\n",
      "[[1 2 1 2 1 2]\n",
      " [3 4 3 4 3 4]\n",
      " [1 2 1 2 1 2]\n",
      " [3 4 3 4 3 4]]\n",
      "----------------------------------------\n",
      "c = a2.repeat( 3, axis=1 )\n",
      "[[1 1 1 2 2 2]\n",
      " [3 3 3 4 4 4]]\n",
      "----------------------------------------\n",
      "d = c.repeat( 2, axis=0 )\n",
      "[[1 1 1 2 2 2]\n",
      " [1 1 1 2 2 2]\n",
      " [3 3 3 4 4 4]\n",
      " [3 3 3 4 4 4]]\n"
     ]
    }
   ],
   "source": [
    "import numpy as np\n",
    "\n",
    "a1 = np.arange( 1, 5 ) \n",
    "a2 = a1.reshape( 2, -1 ) \n",
    "a3 = np.array( [ [1, 2], [3, 4]])\n",
    "\n",
    "b = np.tile( a2, (2, 3) )\n",
    "c = a2.repeat( 3, axis=1 )\n",
    "d = c.repeat( 2, axis=0 )\n",
    "\n",
    "print( \"a1 = np.arange( 1, 5 )\", a1, sep=\"\\n\")\n",
    "print( \"-\"*40 ) \n",
    "print( \"a2 = a.reshape( 2, -1 )\", a2, sep=\"\\n\" )\n",
    "print( \"-\"*40 ) \n",
    "print( \"a3 = np.array([[1,2],[3,4]])\", a3, sep=\"\\n\" )\n",
    "print( \"-\"*40 ) \n",
    "print( \"b = np.tile( a2, (2, 3) )\", b, sep=\"\\n\" )\n",
    "print( \"-\"*40 ) \n",
    "print( \"c = a2.repeat( 3, axis=1 )\", c, sep=\"\\n\" )\n",
    "print( \"-\"*40 ) \n",
    "print( \"d = c.repeat( 2, axis=0 )\", d, sep=\"\\n\" )"
   ]
  }
 ],
 "metadata": {
  "kernelspec": {
   "display_name": "Python 3",
   "language": "python",
   "name": "python3"
  },
  "language_info": {
   "codemirror_mode": {
    "name": "ipython",
    "version": 3
   },
   "file_extension": ".py",
   "mimetype": "text/x-python",
   "name": "python",
   "nbconvert_exporter": "python",
   "pygments_lexer": "ipython3",
   "version": "3.11.9"
  }
 },
 "nbformat": 4,
 "nbformat_minor": 2
}
