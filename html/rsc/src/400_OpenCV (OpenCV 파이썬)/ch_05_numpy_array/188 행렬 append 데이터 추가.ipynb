{
 "cells": [
  {
   "cell_type": "code",
   "execution_count": 1,
   "metadata": {},
   "outputs": [
    {
     "name": "stdout",
     "output_type": "stream",
     "text": [
      "a = \n",
      "[[ 1  2  3  4  5]\n",
      " [ 6  7  8  9 10]\n",
      " [11 12 13 14 15]]\n",
      "----------------------------------------\n",
      "b = np.append( a, np.zeros((3, 2)), axis=1 )\n",
      "[[ 1.  2.  3.  4.  5.  0.  0.]\n",
      " [ 6.  7.  8.  9. 10.  0.  0.]\n",
      " [11. 12. 13. 14. 15.  0.  0.]]\n",
      "----------------------------------------\n",
      "c = np.column_stack( (a, np.zeros( 3 )) )\n",
      "[[ 1.  2.  3.  4.  5.  0.]\n",
      " [ 6.  7.  8.  9. 10.  0.]\n",
      " [11. 12. 13. 14. 15.  0.]]\n",
      "----------------------------------------\n",
      "d = np.append( a, np.ones( (1, 5) ), axis=0)\n",
      "[[ 1.  2.  3.  4.  5.]\n",
      " [ 6.  7.  8.  9. 10.]\n",
      " [11. 12. 13. 14. 15.]\n",
      " [ 1.  1.  1.  1.  1.]]\n"
     ]
    }
   ],
   "source": [
    "import numpy as np\n",
    "\n",
    "a = np.arange( 1, 16 ).reshape(3, -1)\n",
    "b = np.append( a, np.zeros( (3, 2) ), axis=1 )\n",
    "c = np.column_stack( (a, np.zeros( 3 )) )\n",
    "d = np.append( a, np.ones( (1, 5) ), axis=0)\n",
    "\n",
    "print( \"a = \", a, sep=\"\\n\" )\n",
    "print( \"-\"*40 )\n",
    "\n",
    "print( \"b = np.append( a, np.zeros((3, 2)), axis=1 )\", b, sep=\"\\n\" )\n",
    "print( \"-\"*40 )\n",
    "\n",
    "print( \"c = np.column_stack( (a, np.zeros( 3 )) )\", c, sep=\"\\n\" )\n",
    "print( \"-\"*40 )\n",
    "\n",
    "print( \"d = np.append( a, np.ones( (1, 5) ), axis=0)\", d, sep=\"\\n\" )"
   ]
  }
 ],
 "metadata": {
  "kernelspec": {
   "display_name": "Python 3",
   "language": "python",
   "name": "python3"
  },
  "language_info": {
   "codemirror_mode": {
    "name": "ipython",
    "version": 3
   },
   "file_extension": ".py",
   "mimetype": "text/x-python",
   "name": "python",
   "nbconvert_exporter": "python",
   "pygments_lexer": "ipython3",
   "version": "3.11.9"
  }
 },
 "nbformat": 4,
 "nbformat_minor": 2
}
