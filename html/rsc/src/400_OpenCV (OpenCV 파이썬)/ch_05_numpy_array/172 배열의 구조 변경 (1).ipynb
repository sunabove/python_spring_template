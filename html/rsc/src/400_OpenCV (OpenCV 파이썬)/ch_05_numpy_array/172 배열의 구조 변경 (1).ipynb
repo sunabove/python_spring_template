{
 "cells": [
  {
   "cell_type": "code",
   "execution_count": 3,
   "metadata": {},
   "outputs": [
    {
     "name": "stdout",
     "output_type": "stream",
     "text": [
      "a = [1 2 3 4 5 6]\n",
      "a.shape = (6,)\n",
      "------------------------------\n",
      "b = a.reshape( 1, -1 ) =\n",
      "[[1 2 3 4 5 6]]\n",
      "b.shape = (1, 6)\n",
      "------------------------------\n",
      "a.reshape( -1, 1 )\n",
      "[[1]\n",
      " [2]\n",
      " [3]\n",
      " [4]\n",
      " [5]\n",
      " [6]]\n",
      "c.shape = (6, 1)\n",
      "------------------------------\n",
      "d = a.reshape( 2,3 )\n",
      "[[1 2 3]\n",
      " [4 5 6]]\n",
      "d.shape = (2, 3)\n"
     ]
    }
   ],
   "source": [
    "import numpy as np \n",
    "\n",
    "a = np.arange( 1, 7 ) \n",
    "\n",
    "print( \"a =\", a )\n",
    "print( \"a.shape =\", a.shape )\n",
    "print( \"-\"*30 )\n",
    "\n",
    "b = a.reshape( 1, -1 )\n",
    "print( \"b = a.reshape( 1, -1 ) =\", b, sep=\"\\n\" )\n",
    "print( \"b.shape =\", b.shape )\n",
    "print( \"-\"*30 )\n",
    "\n",
    "c = a.reshape( -1, 1 )\n",
    "print( \"a.reshape( -1, 1 )\", c, sep=\"\\n\" )\n",
    "print( \"c.shape =\", c.shape )\n",
    "print( \"-\"*30 )\n",
    "\n",
    "d = a.reshape( 2,3 )\n",
    "print( \"d = a.reshape( 2,3 )\", d, sep=\"\\n\" )\n",
    "print( \"d.shape =\", d.shape )"
   ]
  }
 ],
 "metadata": {
  "kernelspec": {
   "display_name": "Python 3",
   "language": "python",
   "name": "python3"
  },
  "language_info": {
   "codemirror_mode": {
    "name": "ipython",
    "version": 3
   },
   "file_extension": ".py",
   "mimetype": "text/x-python",
   "name": "python",
   "nbconvert_exporter": "python",
   "pygments_lexer": "ipython3",
   "version": "3.11.9"
  }
 },
 "nbformat": 4,
 "nbformat_minor": 2
}
