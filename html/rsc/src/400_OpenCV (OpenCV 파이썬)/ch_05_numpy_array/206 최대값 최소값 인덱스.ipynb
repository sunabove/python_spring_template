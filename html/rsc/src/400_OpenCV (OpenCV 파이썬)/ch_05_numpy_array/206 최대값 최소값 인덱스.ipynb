{
 "cells": [
  {
   "cell_type": "code",
   "execution_count": null,
   "metadata": {},
   "outputs": [
    {
     "name": "stdout",
     "output_type": "stream",
     "text": [
      "a = \n",
      "[[4 8 5]\n",
      " [9 3 1]]\n",
      "------------------------------\n",
      "a.min() =  1\n",
      "a.argmin() =  5\n",
      "a.min(axis=0) [4 3 1]\n",
      "a.argmin(axis=0) [0 1 1]\n",
      "a.min(axis=1) [4 1]\n",
      "a.argmin(axis=1) [0 2]\n",
      "------------------------------\n",
      "a.max() =  9\n",
      "a.argmax() =  3\n",
      "a.max(axis=0) [9 8 5]\n",
      "a.argmax(axis=0) [1 0 0]\n",
      "a.max(axis=1) [8 9]\n",
      "a.argmax(axis=1) [1 0]\n",
      "------------------------------\n",
      "d =  (np.int64(1), np.int64(2))\n"
     ]
    }
   ],
   "source": [
    "import numpy as np\n",
    "\n",
    "a = np.array( [ [4, 8, 5] , [9, 3, 1] ] )\n",
    "\n",
    "print( \"a = \", a, sep=\"\\n\" )\n",
    "print( \"-\"*30 )\n",
    "print( \"a.min() = \", a.min() )\n",
    "print( \"a.argmin() = \", a.argmin() )\n",
    "print( \"a.min(axis=0)\", a.min(axis=0) )\n",
    "print( \"a.argmin(axis=0)\", a.argmin(axis=0) )\n",
    "print( \"a.min(axis=1)\", a.min(axis=1) )\n",
    "print( \"a.argmin(axis=1)\", a.argmin(axis=1) )\n",
    "\n",
    "print( \"-\"*30 )\n",
    "print( \"a.max() = \", a.max() )\n",
    "print( \"a.argmax() = \", a.argmax() )\n",
    "print( \"a.max(axis=0)\", a.max(axis=0) )\n",
    "print( \"a.argmax(axis=0)\", a.argmax(axis=0) )\n",
    "print( \"a.max(axis=1)\", a.max(axis=1) )\n",
    "print( \"a.argmax(axis=1)\", a.argmax(axis=1) )\n",
    "\n",
    "e = 123455  # 정수, 무한 범위 표현\n",
    "f = 123455. # 실수, 8byte 표현\n",
    "\n",
    "print( \"-\"*30 )\n",
    "d = np.unravel_index(a.argmin(), a.shape )\n",
    "print( \"d = \", d )"
   ]
  }
 ],
 "metadata": {
  "kernelspec": {
   "display_name": "Python 3",
   "language": "python",
   "name": "python3"
  },
  "language_info": {
   "codemirror_mode": {
    "name": "ipython",
    "version": 3
   },
   "file_extension": ".py",
   "mimetype": "text/x-python",
   "name": "python",
   "nbconvert_exporter": "python",
   "pygments_lexer": "ipython3",
   "version": "3.11.9"
  },
  "orig_nbformat": 4
 },
 "nbformat": 4,
 "nbformat_minor": 2
}
