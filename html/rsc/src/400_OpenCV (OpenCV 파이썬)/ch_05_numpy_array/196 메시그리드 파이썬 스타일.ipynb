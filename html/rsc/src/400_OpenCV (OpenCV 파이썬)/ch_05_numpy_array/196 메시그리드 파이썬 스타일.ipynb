{
 "cells": [
  {
   "cell_type": "code",
   "execution_count": null,
   "metadata": {},
   "outputs": [
    {
     "name": "stdout",
     "output_type": "stream",
     "text": [
      "d = \n",
      "[[ 0  1  2]\n",
      " [-1  0  1]]\n"
     ]
    }
   ],
   "source": [
    "import numpy as np\n",
    " \n",
    "# 파이썬 코딩 스타일 \n",
    "c = [ [ ( j - i ) for j in range(3) ] for i in range(2) ]\n",
    "d = np.array( c )\n",
    "\n",
    "print( \"d = \", d, sep=\"\\n\")\n"
   ]
  }
 ],
 "metadata": {
  "kernelspec": {
   "display_name": "Python 3",
   "language": "python",
   "name": "python3"
  },
  "language_info": {
   "codemirror_mode": {
    "name": "ipython",
    "version": 3
   },
   "file_extension": ".py",
   "mimetype": "text/x-python",
   "name": "python",
   "nbconvert_exporter": "python",
   "pygments_lexer": "ipython3",
   "version": "3.11.9"
  },
  "orig_nbformat": 4
 },
 "nbformat": 4,
 "nbformat_minor": 2
}
