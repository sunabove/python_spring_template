{
 "cells": [
  {
   "cell_type": "code",
   "execution_count": 5,
   "metadata": {},
   "outputs": [
    {
     "name": "stdout",
     "output_type": "stream",
     "text": [
      "np.full( (3, 2), 7 )\n",
      "[[9 9]\n",
      " [9 9]\n",
      " [9 9]]\n",
      "----------------------------------------\n",
      "np.eye( 3, 3 )\n",
      "[[1. 0. 0.]\n",
      " [0. 1. 0.]\n",
      " [0. 0. 1.]]\n",
      "----------------------------------------\n",
      "np.eye( 3 )\n",
      "[[1. 0. 0.]\n",
      " [0. 1. 0.]\n",
      " [0. 0. 1.]]\n",
      "----------------------------------------\n",
      "np.eye( 5 )\n",
      "[[1. 0. 0. 0. 0.]\n",
      " [0. 1. 0. 0. 0.]\n",
      " [0. 0. 1. 0. 0.]\n",
      " [0. 0. 0. 1. 0.]\n",
      " [0. 0. 0. 0. 1.]]\n",
      "----------------------------------------\n",
      "np.empty( (3, 2) )\n",
      "[[4.4e-323 4.4e-323]\n",
      " [4.4e-323 4.4e-323]\n",
      " [4.4e-323 4.4e-323]]\n"
     ]
    }
   ],
   "source": [
    "import numpy as np \n",
    "\n",
    "d = np.full( (3, 2), 9 ) # 렬 갯수 3, 행 갯수 2의 행렬 생성\n",
    "print( \"np.full( (3, 2), 7 )\", d, sep=\"\\n\")\n",
    "\n",
    "print( \"-\"*40 )\n",
    "e = np.eye( 3, 3 ) # 렬 갯수 3, 행 갯수 2의 행렬 생성\n",
    "print( \"np.eye( 3, 3 )\", e, sep=\"\\n\")\n",
    "\n",
    "print( \"-\"*40 )\n",
    "f = np.eye( 3 ) # 렬 갯수 3, 행 갯수 2의 행렬 생성\n",
    "print( \"np.eye( 3 )\", f, sep=\"\\n\")\n",
    "\n",
    "print( \"-\"*40 )\n",
    "f = np.eye( 5 ) # 렬 갯수 3, 행 갯수 2의 행렬 생성\n",
    "print( \"np.eye( 5 )\", f, sep=\"\\n\")\n",
    "\n",
    "print( \"-\"*40 )\n",
    "g = np.empty( (3, 2) ) # 렬 갯수 3, 행 갯수 2의 행렬 생성\n",
    "print( \"np.empty( (3, 2) )\", g, sep=\"\\n\")"
   ]
  }
 ],
 "metadata": {
  "kernelspec": {
   "display_name": "Python 3",
   "language": "python",
   "name": "python3"
  },
  "language_info": {
   "codemirror_mode": {
    "name": "ipython",
    "version": 3
   },
   "file_extension": ".py",
   "mimetype": "text/x-python",
   "name": "python",
   "nbconvert_exporter": "python",
   "pygments_lexer": "ipython3",
   "version": "3.11.9"
  }
 },
 "nbformat": 4,
 "nbformat_minor": 2
}
