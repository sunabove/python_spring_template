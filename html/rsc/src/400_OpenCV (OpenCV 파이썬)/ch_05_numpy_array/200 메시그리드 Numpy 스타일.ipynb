{
 "cells": [
  {
   "cell_type": "code",
   "execution_count": 2,
   "metadata": {},
   "outputs": [
    {
     "name": "stdout",
     "output_type": "stream",
     "text": [
      "i = \n",
      "[0 1]\n",
      "----------------------------------------\n",
      "j = \n",
      "[0 1 2]\n",
      "----------------------------------------\n",
      "i = \n",
      "[[0]\n",
      " [1]]\n",
      "----------------------------------------\n",
      "j = \n",
      "[[0 1 2]]\n",
      "----------------------------------------\n",
      "a = \n",
      "[[ 0  1  2]\n",
      " [-1  0  1]]\n",
      "----------------------------------------\n"
     ]
    }
   ],
   "source": [
    "import numpy as np \n",
    "\n",
    "# Numpy 코딩 스타일\n",
    "i, j = np.arange(2), np.arange(3)\n",
    "\n",
    "print( \"i = \", i, \"-\"*40, sep=\"\\n\")\n",
    "print( \"j = \", j, \"-\"*40, sep=\"\\n\")\n",
    "\n",
    "i, j = np.meshgrid( i, j, sparse=1, indexing=\"ij\" )\n",
    "a = j - i \n",
    "\n",
    "print( \"i = \", i, \"-\"*40, sep=\"\\n\")\n",
    "print( \"j = \", j, \"-\"*40, sep=\"\\n\")\n",
    "print( \"a = \", a, \"-\"*40, sep=\"\\n\")"
   ]
  }
 ],
 "metadata": {
  "kernelspec": {
   "display_name": "Python 3",
   "language": "python",
   "name": "python3"
  },
  "language_info": {
   "codemirror_mode": {
    "name": "ipython",
    "version": 3
   },
   "file_extension": ".py",
   "mimetype": "text/x-python",
   "name": "python",
   "nbconvert_exporter": "python",
   "pygments_lexer": "ipython3",
   "version": "3.11.9"
  },
  "orig_nbformat": 4
 },
 "nbformat": 4,
 "nbformat_minor": 2
}
