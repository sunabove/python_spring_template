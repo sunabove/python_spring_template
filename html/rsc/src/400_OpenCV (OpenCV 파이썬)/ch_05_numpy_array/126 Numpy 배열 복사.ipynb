{
 "cells": [
  {
   "cell_type": "code",
   "execution_count": 1,
   "metadata": {},
   "outputs": [
    {
     "name": "stdout",
     "output_type": "stream",
     "text": [
      "a = 0x249f2353270 , [1 2 3]\n",
      "b = 0x249f2353270 , [1 2 3]\n",
      "c = 0x249f2410750 , [1 2 3]\n",
      "d = 0x249f2410810 , [1 2 3]\n"
     ]
    }
   ],
   "source": [
    "# Numpy 배열 복사\n",
    "import numpy as np\n",
    "\n",
    "a = np.array( [ 1, 2, 3] )\n",
    "b = a  # 포인터\n",
    "c = a[:] # 복사\n",
    "d = c.copy() # 복사\n",
    "\n",
    "# 배열 값 출력\n",
    "print( \"a =\", hex(id(a)), \",\", a )\n",
    "print( \"b =\", hex(id(b)), \",\", b ) # 포인터\n",
    "print( \"c =\", hex(id(c)), \",\", c ) # 복사\n",
    "print( \"d =\", hex(id(d)), \",\", d ) # 복사"
   ]
  }
 ],
 "metadata": {
  "kernelspec": {
   "display_name": "Python 3",
   "language": "python",
   "name": "python3"
  },
  "language_info": {
   "codemirror_mode": {
    "name": "ipython",
    "version": 3
   },
   "file_extension": ".py",
   "mimetype": "text/x-python",
   "name": "python",
   "nbconvert_exporter": "python",
   "pygments_lexer": "ipython3",
   "version": "3.11.9"
  }
 },
 "nbformat": 4,
 "nbformat_minor": 2
}
