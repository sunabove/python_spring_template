{
 "cells": [
  {
   "cell_type": "code",
   "execution_count": 1,
   "metadata": {},
   "outputs": [
    {
     "name": "stdout",
     "output_type": "stream",
     "text": [
      "a = \n",
      "[[ 1  2  3  4]\n",
      " [ 5  6  7  8]\n",
      " [ 9 10 11 12]]\n",
      "----------------------------------------\n",
      "b = \n",
      "[[1 2 3 4]\n",
      " [5 6 7 8]]\n",
      "----------------------------------------\n",
      "c = \n",
      "[[1 2]\n",
      " [3 4]\n",
      " [5 6]]\n",
      "----------------------------------------\n",
      "d = np.vstack( (a,b) )\n",
      "[[ 1  2  3  4]\n",
      " [ 5  6  7  8]\n",
      " [ 9 10 11 12]\n",
      " [ 1  2  3  4]\n",
      " [ 5  6  7  8]]\n",
      "----------------------------------------\n",
      "e = np.hstack( (a,c) )\n",
      "[[ 1  2  3  4  1  2]\n",
      " [ 5  6  7  8  3  4]\n",
      " [ 9 10 11 12  5  6]]\n"
     ]
    }
   ],
   "source": [
    "import numpy as np\n",
    "\n",
    "a = np.arange( 1, 13 ).reshape( -1, 4 )\n",
    "b = np.arange( 1, 9 ).reshape( -1, 4 )\n",
    "c = np.arange( 1, 7 ).reshape( -1, 2 )\n",
    "\n",
    "d = np.vstack( (a,b) )\n",
    "e = np.hstack( (a,c) )\n",
    "\n",
    "print( \"a = \", a, sep=\"\\n\" )\n",
    "print( \"-\"*40 )\n",
    "print( \"b = \", b, sep=\"\\n\" )\n",
    "print( \"-\"*40 )\n",
    "print( \"c = \", c, sep=\"\\n\" )\n",
    "print( \"-\"*40 )\n",
    "\n",
    "print( \"d = np.vstack( (a,b) )\", d, sep=\"\\n\" )\n",
    "print( \"-\"*40 )\n",
    "\n",
    "print( \"e = np.hstack( (a,c) )\", e, sep=\"\\n\" )"
   ]
  }
 ],
 "metadata": {
  "kernelspec": {
   "display_name": "Python 3",
   "language": "python",
   "name": "python3"
  },
  "language_info": {
   "codemirror_mode": {
    "name": "ipython",
    "version": 3
   },
   "file_extension": ".py",
   "mimetype": "text/x-python",
   "name": "python",
   "nbconvert_exporter": "python",
   "pygments_lexer": "ipython3",
   "version": "3.11.9"
  }
 },
 "nbformat": 4,
 "nbformat_minor": 2
}
