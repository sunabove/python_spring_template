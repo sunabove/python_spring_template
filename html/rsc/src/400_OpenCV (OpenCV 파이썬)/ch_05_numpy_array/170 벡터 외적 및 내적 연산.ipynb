{
 "cells": [
  {
   "cell_type": "code",
   "execution_count": 1,
   "metadata": {},
   "outputs": [
    {
     "name": "stdout",
     "output_type": "stream",
     "text": [
      "a =  [1 2 3]\n",
      "b =  [1 2 3]\n",
      "a@b =  14\n",
      "inner =  14\n",
      "outer = \n",
      "[[1 2 3]\n",
      " [2 4 6]\n",
      " [3 6 9]]\n"
     ]
    }
   ],
   "source": [
    "import numpy as np \n",
    "\n",
    "a = np.array( [ 1, 2, 3 ] )\n",
    "b = np.array( [ 1, 2, 3 ] )\n",
    "\n",
    "print( \"a = \", a )\n",
    "print( \"b = \", b )\n",
    "\n",
    "print( \"a@b = \", a@b )\n",
    "print( \"inner = \", np.dot(a, b) )\n",
    "print( \"outer = \", np.outer(a, b), sep=\"\\n\" )"
   ]
  }
 ],
 "metadata": {
  "kernelspec": {
   "display_name": "Python 3",
   "language": "python",
   "name": "python3"
  },
  "language_info": {
   "codemirror_mode": {
    "name": "ipython",
    "version": 3
   },
   "file_extension": ".py",
   "mimetype": "text/x-python",
   "name": "python",
   "nbconvert_exporter": "python",
   "pygments_lexer": "ipython3",
   "version": "3.11.9"
  }
 },
 "nbformat": 4,
 "nbformat_minor": 2
}
