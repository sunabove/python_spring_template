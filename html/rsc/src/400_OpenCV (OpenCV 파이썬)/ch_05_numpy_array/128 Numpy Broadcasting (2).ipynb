{
 "cells": [
  {
   "cell_type": "code",
   "execution_count": 5,
   "metadata": {},
   "outputs": [
    {
     "name": "stdout",
     "output_type": "stream",
     "text": [
      "np.arange( 3 ) => [0 1 2]\n",
      "np.ones( (3,3) ) =>\n",
      "[[1. 1. 1.]\n",
      " [1. 1. 1.]\n",
      " [1. 1. 1.]]\n",
      "np.ones( (3,3) ) + np.arange( 3 ) =>\n",
      "[[1. 2. 3.]\n",
      " [1. 2. 3.]\n",
      " [1. 2. 3.]]\n",
      "np.arange(3).reshape( (3,1) ) + np.arange(3) =>\n",
      "[[0 1 2]\n",
      " [1 2 3]\n",
      " [2 3 4]]\n"
     ]
    }
   ],
   "source": [
    "# Numpy Broadcasting (2)\n",
    "import numpy as np\n",
    "\n",
    "a = np.arange( 3 )\n",
    "b = np.ones( (3,3) ) + np.arange( 3 )\n",
    "c = np.arange(3).reshape( (3,1) ) + np.arange(3)\n",
    "# 배열 값 출력\n",
    "print( \"np.arange( 3 ) =>\", a )\n",
    "print( \"np.ones( (3,3) ) =>\", np.ones( (3,3) ), sep=\"\\n\" )\n",
    "print( \"np.ones( (3,3) ) + np.arange( 3 ) =>\", b, sep=\"\\n\"  )\n",
    "print( \"np.arange(3).reshape( (3,1) ) + np.arange(3) =>\", c, sep=\"\\n\"  )"
   ]
  }
 ],
 "metadata": {
  "kernelspec": {
   "display_name": "Python 3",
   "language": "python",
   "name": "python3"
  },
  "language_info": {
   "codemirror_mode": {
    "name": "ipython",
    "version": 3
   },
   "file_extension": ".py",
   "mimetype": "text/x-python",
   "name": "python",
   "nbconvert_exporter": "python",
   "pygments_lexer": "ipython3",
   "version": "3.11.9"
  }
 },
 "nbformat": 4,
 "nbformat_minor": 2
}
