{
 "cells": [
  {
   "cell_type": "code",
   "execution_count": 1,
   "metadata": {},
   "outputs": [
    {
     "name": "stdout",
     "output_type": "stream",
     "text": [
      "a = np.arange( 1, 16 ).reshape(3, -1)\n",
      "[[ 1  2  3  4  5]\n",
      " [ 6  7  8  9 10]\n",
      " [11 12 13 14 15]]\n",
      "----------------------------------------\n",
      "b = np.pad( a, ( (0,1), (0,0) ), constant_values=1)\n",
      "[[ 1  2  3  4  5]\n",
      " [ 6  7  8  9 10]\n",
      " [11 12 13 14 15]\n",
      " [ 1  1  1  1  1]]\n",
      "----------------------------------------\n",
      "c = np.pad( a, ( (0,0), (0,2) ) )\n",
      "[[ 1  2  3  4  5  0  0]\n",
      " [ 6  7  8  9 10  0  0]\n",
      " [11 12 13 14 15  0  0]]\n",
      "----------------------------------------\n",
      "d = np.pad( a, 1 )\n",
      "[[ 0  0  0  0  0  0  0]\n",
      " [ 0  1  2  3  4  5  0]\n",
      " [ 0  6  7  8  9 10  0]\n",
      " [ 0 11 12 13 14 15  0]\n",
      " [ 0  0  0  0  0  0  0]]\n"
     ]
    }
   ],
   "source": [
    "import numpy as np\n",
    "\n",
    "a = np.arange( 1, 16 ).reshape(3, -1) \n",
    "b = np.pad( a, ( (0, 1), (0, 0) ), constant_values=1)\n",
    "c = np.pad( a, ( (0, 0), (0, 2) ) )\n",
    "d = np.pad( a, 1 )\n",
    "\n",
    "print( \"a = np.arange( 1, 16 ).reshape(3, -1)\", a, sep=\"\\n\" )\n",
    "print( \"-\"*40 ) \n",
    "print( \"b = np.pad( a, ( (0,1), (0,0) ), constant_values=1)\", b, sep=\"\\n\")\n",
    "print( \"-\"*40 ) \n",
    "print( \"c = np.pad( a, ( (0,0), (0,2) ) )\", c, sep=\"\\n\")\n",
    "print( \"-\"*40 ) \n",
    "print( \"d = np.pad( a, 1 )\", d, sep=\"\\n\")"
   ]
  }
 ],
 "metadata": {
  "kernelspec": {
   "display_name": "Python 3",
   "language": "python",
   "name": "python3"
  },
  "language_info": {
   "codemirror_mode": {
    "name": "ipython",
    "version": 3
   },
   "file_extension": ".py",
   "mimetype": "text/x-python",
   "name": "python",
   "nbconvert_exporter": "python",
   "pygments_lexer": "ipython3",
   "version": "3.11.9"
  }
 },
 "nbformat": 4,
 "nbformat_minor": 2
}
