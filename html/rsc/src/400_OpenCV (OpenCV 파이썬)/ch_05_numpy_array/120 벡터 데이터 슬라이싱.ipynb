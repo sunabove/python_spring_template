{
 "cells": [
  {
   "cell_type": "code",
   "execution_count": 5,
   "metadata": {},
   "outputs": [
    {
     "name": "stdout",
     "output_type": "stream",
     "text": [
      "a      = [1 2 3 4 5]\n",
      "a[1]   = 2\n",
      "a[2:4] = [3 4]\n",
      "a[-2:] = [4 5]\n",
      "a[::2] = [1 3 5]\n",
      "a[ [1, 3, 4] ] = [2 4 5]\n",
      "a[ 2:4 ] = 0\n",
      "a [1 2 0 0 5]\n"
     ]
    }
   ],
   "source": [
    "# Numpy 배열 슬라이싱 예제 1\n",
    "import numpy as np\n",
    "\n",
    "a = np.arange( 1, 6 )\n",
    "\n",
    "print( \"a      =\", a )\n",
    "print( \"a[1]   =\", a[1] )\n",
    "print( \"a[2:4] =\", a[2:4] )\n",
    "print( \"a[-2:] =\", a[-2:] )\n",
    "print( \"a[::2] =\", a[::2] )\n",
    "print( \"a[ [1, 3, 4] ] =\", a[ [1, 3, 4] ] )\n",
    "\n",
    "a[ 2:4 ] = 0 \n",
    "print( \"a[ 2:4 ] = 0\" )\n",
    "print( \"a\", a )"
   ]
  }
 ],
 "metadata": {
  "kernelspec": {
   "display_name": "Python 3",
   "language": "python",
   "name": "python3"
  },
  "language_info": {
   "codemirror_mode": {
    "name": "ipython",
    "version": 3
   },
   "file_extension": ".py",
   "mimetype": "text/x-python",
   "name": "python",
   "nbconvert_exporter": "python",
   "pygments_lexer": "ipython3",
   "version": "3.11.9"
  }
 },
 "nbformat": 4,
 "nbformat_minor": 2
}
