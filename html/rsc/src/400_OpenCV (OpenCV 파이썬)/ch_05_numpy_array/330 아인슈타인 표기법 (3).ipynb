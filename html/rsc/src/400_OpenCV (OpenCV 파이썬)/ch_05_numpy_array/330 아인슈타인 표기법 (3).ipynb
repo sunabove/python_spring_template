{
 "cells": [
  {
   "cell_type": "code",
   "execution_count": null,
   "metadata": {},
   "outputs": [
    {
     "name": "stdout",
     "output_type": "stream",
     "text": [
      "a = \n",
      "[[1 2 3]\n",
      " [3 4 5]\n",
      " [4 5 6]]\n",
      "Trace of the matrix: 11\n"
     ]
    }
   ],
   "source": [
    "# 행렬 대각합\n",
    "\n",
    "import numpy as np\n",
    "\n",
    "# 행렬\n",
    "a = np.array([[1, 2, 3], [3, 4, 5], [4, 5, 6]])\n",
    "\n",
    "# 아인슈타인 표기법을 사용한 대각합 계산\n",
    "trace = np.einsum( 'ii->', a )\n",
    "# 'ii->'는 동일한 인덱스의 대각 요소들을 합산하라는 의미입니다.\n",
    "\n",
    "print( \"a = \", a, sep=\"\\n\" )\n",
    "print(\"Trace of the matrix:\", trace)\n",
    "# Output: 5 (1 + 4)\n"
   ]
  }
 ],
 "metadata": {
  "kernelspec": {
   "display_name": "Python 3",
   "language": "python",
   "name": "python3"
  },
  "language_info": {
   "codemirror_mode": {
    "name": "ipython",
    "version": 3
   },
   "file_extension": ".py",
   "mimetype": "text/x-python",
   "name": "python",
   "nbconvert_exporter": "python",
   "pygments_lexer": "ipython3",
   "version": "3.11.9"
  },
  "orig_nbformat": 4
 },
 "nbformat": 4,
 "nbformat_minor": 2
}
