{
 "cells": [
  {
   "cell_type": "code",
   "execution_count": 1,
   "metadata": {},
   "outputs": [
    {
     "name": "stdout",
     "output_type": "stream",
     "text": [
      "a = [7 1 4]\n",
      "b = [0.88929247 0.90649888 0.40455989]\n",
      "c = [ 1.15363234 -0.47735441 -0.01494584]\n",
      "d = [8.88558362 7.30106662 9.42666393]\n",
      "e = [4.10705876 5.42662071 5.56906291]\n"
     ]
    },
    {
     "ename": "",
     "evalue": "",
     "output_type": "error",
     "traceback": [
      "\u001b[1;31mThe Kernel crashed while executing code in the current cell or a previous cell. \n",
      "\u001b[1;31mPlease review the code in the cell(s) to identify a possible cause of the failure. \n",
      "\u001b[1;31mClick <a href='https://aka.ms/vscodeJupyterKernelCrash'>here</a> for more info. \n",
      "\u001b[1;31mView Jupyter <a href='command:jupyter.viewOutput'>log</a> for further details."
     ]
    }
   ],
   "source": [
    "import numpy as np\n",
    "\n",
    "a = np.random.randint( 0, 10, 3 )\n",
    "b = np.random.rand( 3 )\n",
    "c = np.random.randn( 3 )\n",
    "d = np.random.uniform( 1, 10, 3 )\n",
    "e = np.random.normal( 5, 2, 3 )\n",
    "\n",
    "# 배열 값 출력\n",
    "print( \"a =\", a )\n",
    "print( \"b =\", b )\n",
    "print( \"c =\", c )\n",
    "print( \"d =\", d )\n",
    "print( \"e =\", e )"
   ]
  }
 ],
 "metadata": {
  "kernelspec": {
   "display_name": "Python 3",
   "language": "python",
   "name": "python3"
  },
  "language_info": {
   "codemirror_mode": {
    "name": "ipython",
    "version": 3
   },
   "file_extension": ".py",
   "mimetype": "text/x-python",
   "name": "python",
   "nbconvert_exporter": "python",
   "pygments_lexer": "ipython3",
   "version": "3.11.9"
  }
 },
 "nbformat": 4,
 "nbformat_minor": 2
}
