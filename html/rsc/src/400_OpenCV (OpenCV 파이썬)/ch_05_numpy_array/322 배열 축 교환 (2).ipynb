{
 "cells": [
  {
   "cell_type": "code",
   "execution_count": 3,
   "metadata": {},
   "outputs": [
    {
     "name": "stdout",
     "output_type": "stream",
     "text": [
      "a = \n",
      "[[[  1   2   3]\n",
      "  [  4   5   6]\n",
      "  [  7   8   9]\n",
      "  [ 10  11  12]]\n",
      "\n",
      " [[ -1  -2  -3]\n",
      "  [ -4  -5  -6]\n",
      "  [ -7  -8  -9]\n",
      "  [-10 -11 -12]]]\n",
      "------------------------------------------------------------\n",
      "a.shape =  (2, 4, 3)\n",
      "------------------------------------------------------------\n",
      "b = np.swapaxes( a, 1, 2 ) \n",
      "[[[  1   4   7  10]\n",
      "  [  2   5   8  11]\n",
      "  [  3   6   9  12]]\n",
      "\n",
      " [[ -1  -4  -7 -10]\n",
      "  [ -2  -5  -8 -11]\n",
      "  [ -3  -6  -9 -12]]]\n",
      "------------------------------------------------------------\n",
      "b.shape =  (2, 3, 4)\n",
      "------------------------------------------------------------\n"
     ]
    }
   ],
   "source": [
    "import numpy as np\n",
    "\n",
    "a0 = np.arange( 1, 13 ).reshape( 1, 4, 3 )\n",
    "a1 = -a0\n",
    "a = np.concatenate( ( a0, a1 ), axis=0 )\n",
    "b = np.swapaxes( a, 1, 2 )\n",
    "\n",
    "print( \"a = \", a, sep=\"\\n\" )\n",
    "print( \"-\"*60  ) \n",
    "print( \"a.shape = \", a.shape )\n",
    "print( \"-\"*60  ) \n",
    "\n",
    "print( \"b = np.swapaxes( a, 1, 2 ) \", b, sep=\"\\n\" )\n",
    "print( \"-\"*60  ) \n",
    "print( \"b.shape = \", b.shape )\n",
    "print( \"-\"*60  ) "
   ]
  }
 ],
 "metadata": {
  "kernelspec": {
   "display_name": "Python 3",
   "language": "python",
   "name": "python3"
  },
  "language_info": {
   "codemirror_mode": {
    "name": "ipython",
    "version": 3
   },
   "file_extension": ".py",
   "mimetype": "text/x-python",
   "name": "python",
   "nbconvert_exporter": "python",
   "pygments_lexer": "ipython3",
   "version": "3.11.9"
  },
  "orig_nbformat": 4
 },
 "nbformat": 4,
 "nbformat_minor": 2
}
