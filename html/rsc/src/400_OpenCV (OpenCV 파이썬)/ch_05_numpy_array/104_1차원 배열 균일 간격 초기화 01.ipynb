{
 "cells": [
  {
   "cell_type": "code",
   "execution_count": 2,
   "metadata": {},
   "outputs": [
    {
     "name": "stdout",
     "output_type": "stream",
     "text": [
      "a1 = [0 1 2 3 4 5]\n",
      "a2 = [0 1 2 3 4 5]\n",
      "a3 = [0 1 2 3 4 5]\n",
      "b1 = [2 3 4 5]\n",
      "b2 = [2 3 4 5]\n",
      "c = [1 3 5]\n",
      "d = [0.  0.1 0.2 0.3 0.4 0.5]\n",
      "d2 = [0. 1. 2. 3. 4. 5.]\n"
     ]
    }
   ],
   "source": [
    "import numpy as np\n",
    "\n",
    "# 1차원 배열 초기화 \n",
    "a1 = np.arange( 6 )\n",
    "a2 = np.arange( 0, 6 )\n",
    "a3 = np.arange( 0, 6, 1 )\n",
    "\n",
    "b1 = np.arange( 2, 6 )\n",
    "b2 = np.arange( 2, 6, 1 )\n",
    "c = np.arange( 1, 6, 2 )\n",
    "\n",
    "d = np.linspace( 0, 0.5, 6 )\n",
    "d2 = np.linspace( 0, 5, 6 )\n",
    "\n",
    "# 배열 값 출력\n",
    "print( \"a1 =\", a1 )\n",
    "print( \"a2 =\", a2 )\n",
    "print( \"a3 =\", a3 )\n",
    "print( \"b1 =\", b1 )\n",
    "print( \"b2 =\", b2 )\n",
    "print( \"c =\", c )\n",
    "print( \"d =\", d )\n",
    "print( \"d2 =\", d2 )"
   ]
  }
 ],
 "metadata": {
  "kernelspec": {
   "display_name": "Python 3",
   "language": "python",
   "name": "python3"
  },
  "language_info": {
   "codemirror_mode": {
    "name": "ipython",
    "version": 3
   },
   "file_extension": ".py",
   "mimetype": "text/x-python",
   "name": "python",
   "nbconvert_exporter": "python",
   "pygments_lexer": "ipython3",
   "version": "3.11.9"
  }
 },
 "nbformat": 4,
 "nbformat_minor": 2
}
