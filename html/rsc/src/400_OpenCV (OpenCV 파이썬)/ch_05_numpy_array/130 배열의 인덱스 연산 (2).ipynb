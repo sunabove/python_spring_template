{
 "cells": [
  {
   "cell_type": "code",
   "execution_count": 3,
   "metadata": {},
   "outputs": [
    {
     "name": "stdout",
     "output_type": "stream",
     "text": [
      "a =  [1 2 3 4 5 6 7 6 5 4 3 2 1]\n",
      "np.where( a > 5 ) =>  (array([5, 6, 7]),)\n",
      "np.nonzero( a > 5 ) =>  (array([5, 6, 7]),)\n",
      "a[ a < 5 ] = 0; a[ a >= 5 ] = 1 => [0 0 0 0 1 1 1 1 1 0 0 0 0]\n",
      "a =  [1 2 3 4 5 6 7 6 5 4 3 2 1]\n",
      "np.where( a >= 5, 1, 0 ) => [0 0 0 0 1 1 1 1 1 0 0 0 0]\n"
     ]
    }
   ],
   "source": [
    "import numpy as np\n",
    "\n",
    "a = np.array( [1,2,3,4,5,6,7,6,5,4,3,2,1] ) \n",
    "\n",
    "print( \"a = \", a )\n",
    "c = np.where( a > 5 )  # 5 보다 큰 요소들\n",
    "d = np.nonzero( a > 5 ) # 5 보다 크고 영이 아인 요소들 \n",
    "print( \"np.where( a > 5 ) => \", c)\n",
    "print( \"np.nonzero( a > 5 ) => \", d)\n",
    "\n",
    "# 5 미만은 0으로, 5 이상은 1 로 설정 \n",
    "a[ a < 5 ] = 0; a[ a >= 5 ] = 1\n",
    "print( \"a[ a < 5 ] = 0; a[ a >= 5 ] = 1 =>\" , a )\n",
    "\n",
    "a = np.array( [1,2,3,4,5,6,7,6,5,4,3,2,1] )\n",
    "print( \"a = \", a )\n",
    "e = np.where( a >= 5, 1, 0 )\n",
    "print( \"np.where( a >= 5, 1, 0 ) =>\", e )\n"
   ]
  }
 ],
 "metadata": {
  "kernelspec": {
   "display_name": "Python 3",
   "language": "python",
   "name": "python3"
  },
  "language_info": {
   "codemirror_mode": {
    "name": "ipython",
    "version": 3
   },
   "file_extension": ".py",
   "mimetype": "text/x-python",
   "name": "python",
   "nbconvert_exporter": "python",
   "pygments_lexer": "ipython3",
   "version": "3.11.9"
  }
 },
 "nbformat": 4,
 "nbformat_minor": 2
}
