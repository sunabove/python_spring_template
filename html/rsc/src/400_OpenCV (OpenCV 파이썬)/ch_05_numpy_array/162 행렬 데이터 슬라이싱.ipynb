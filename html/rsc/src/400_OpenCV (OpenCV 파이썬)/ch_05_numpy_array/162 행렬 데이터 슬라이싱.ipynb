{
 "cells": [
  {
   "cell_type": "code",
   "execution_count": 6,
   "metadata": {},
   "outputs": [
    {
     "name": "stdout",
     "output_type": "stream",
     "text": [
      "a =\n",
      "[[ 1  2  3  4]\n",
      " [ 5  6  7  8]\n",
      " [ 9 10 11 12]]\n",
      "a[ 1, 2 ] = 7\n",
      "a[ 1, : ] = [5 6 7 8]\n",
      "a[ :, 2 ] = [ 3  7 11]\n",
      "a[ :, 1:3] =\n",
      "[[ 2  3]\n",
      " [ 6  7]\n",
      " [10 11]]\n",
      "a[ -2:, -2: ] =\n",
      "[[ 7  8]\n",
      " [11 12]]\n",
      "a[ ::2, 1::2 ] =\n",
      "[[ 2  4]\n",
      " [10 12]]\n"
     ]
    }
   ],
   "source": [
    "import numpy as np\n",
    "\n",
    "def f(y, x) :\n",
    "   return 4*y + x + 1\n",
    "\n",
    "a = np.fromfunction(f, (3, 4), dtype=int)\n",
    "\n",
    "print( \"a =\", a, sep=\"\\n\")\n",
    "print( \"a[ 1, 2 ] =\", a[ 1, 2 ] )\n",
    "print( \"a[ 1, : ] =\", a[ 1, : ] )\n",
    "print( \"a[ :, 2 ] =\", a[ :, 2 ] )\n",
    "print( \"a[ :, 1:3] =\", a[ :, 1:3], sep=\"\\n\" )\n",
    "print( \"a[ -2:, -2: ] =\", a[ -2:, -2: ], sep=\"\\n\"  )\n",
    "print( \"a[ ::2, 1::2 ] =\", a[ ::2, 1::2 ], sep=\"\\n\"  )"
   ]
  }
 ],
 "metadata": {
  "kernelspec": {
   "display_name": "Python 3",
   "language": "python",
   "name": "python3"
  },
  "language_info": {
   "codemirror_mode": {
    "name": "ipython",
    "version": 3
   },
   "file_extension": ".py",
   "mimetype": "text/x-python",
   "name": "python",
   "nbconvert_exporter": "python",
   "pygments_lexer": "ipython3",
   "version": "3.11.9"
  }
 },
 "nbformat": 4,
 "nbformat_minor": 2
}
