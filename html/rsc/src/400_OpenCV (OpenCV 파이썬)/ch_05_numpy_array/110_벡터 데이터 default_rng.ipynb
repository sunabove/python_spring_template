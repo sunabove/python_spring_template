{
 "cells": [
  {
   "cell_type": "code",
   "execution_count": 8,
   "metadata": {},
   "outputs": [
    {
     "name": "stdout",
     "output_type": "stream",
     "text": [
      "1 [3 5 5]\n",
      "2 [6 5 2]\n",
      "3 [0.41557125 0.83242958 0.33545783]\n",
      "4 [-0.69408035  1.01791191  1.41988691]\n",
      "5 [8.71954517 5.91896136 4.32095566]\n",
      "6 [6.95802076 2.45223811 5.72320872]\n"
     ]
    },
    {
     "ename": "",
     "evalue": "",
     "output_type": "error",
     "traceback": [
      "\u001b[1;31mThe Kernel crashed while executing code in the current cell or a previous cell. \n",
      "\u001b[1;31mPlease review the code in the cell(s) to identify a possible cause of the failure. \n",
      "\u001b[1;31mClick <a href='https://aka.ms/vscodeJupyterKernelCrash'>here</a> for more info. \n",
      "\u001b[1;31mView Jupyter <a href='command:jupyter.viewOutput'>log</a> for further details."
     ]
    }
   ],
   "source": [
    "import numpy as np\n",
    "\n",
    "rng = np.random.default_rng()\n",
    "\n",
    "print( \"1\", rng.integers(0, 10, 3) )\n",
    "print( \"2\", rng.integers(0, 10, 3, endpoint=True) )\n",
    "print( \"3\", rng.random(3) )\n",
    "print( \"4\", rng.standard_normal(3) )\n",
    "print( \"5\", rng.uniform(1, 10, 3) )\n",
    "print( \"6\", rng.normal(5, 2, 3) )"
   ]
  }
 ],
 "metadata": {
  "kernelspec": {
   "display_name": "Python 3",
   "language": "python",
   "name": "python3"
  },
  "language_info": {
   "codemirror_mode": {
    "name": "ipython",
    "version": 3
   },
   "file_extension": ".py",
   "mimetype": "text/x-python",
   "name": "python",
   "nbconvert_exporter": "python",
   "pygments_lexer": "ipython3",
   "version": "3.11.9"
  }
 },
 "nbformat": 4,
 "nbformat_minor": 2
}
