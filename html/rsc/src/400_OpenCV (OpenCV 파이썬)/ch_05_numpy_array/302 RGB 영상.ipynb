{
 "cells": [
  {
   "cell_type": "code",
   "execution_count": 2,
   "metadata": {},
   "outputs": [
    {
     "name": "stdout",
     "output_type": "stream",
     "text": [
      "a = \n",
      "[[[0 1 2]\n",
      "  [0 1 2]\n",
      "  [0 1 2]\n",
      "  [0 1 2]]\n",
      "\n",
      " [[0 1 2]\n",
      "  [0 1 2]\n",
      "  [0 1 2]\n",
      "  [0 1 2]]]\n",
      "--------------------------------------------------\n",
      "a.shape =  (2, 4, 3)\n",
      "--------------------------------------------------\n",
      "b = \n",
      "[[[0 0 0 0]\n",
      "  [0 0 0 0]]\n",
      "\n",
      " [[1 1 1 1]\n",
      "  [1 1 1 1]]\n",
      "\n",
      " [[2 2 2 2]\n",
      "  [2 2 2 2]]]\n",
      "--------------------------------------------------\n",
      "b.shape =  (3, 2, 4)\n",
      "--------------------------------------------------\n",
      "c = \n",
      "[[[0 1 2]\n",
      "  [0 1 2]\n",
      "  [0 1 2]\n",
      "  [0 1 2]]\n",
      "\n",
      " [[0 1 2]\n",
      "  [0 1 2]\n",
      "  [0 1 2]\n",
      "  [0 1 2]]]\n",
      "--------------------------------------------------\n",
      "c.shape =  (2, 4, 3)\n"
     ]
    }
   ],
   "source": [
    "import numpy as np\n",
    "\n",
    "a = np.array( [ [ [0, 1, 2] ]*4 ]*2 ) \n",
    "b = np.array( [ [ [0]*4 ]*2, [ [1]*4 ]*2, [ [2]*4 ]*2 ] )\n",
    "c = np.dstack( [ [ [0]*4 ]*2, [ [1]*4 ]*2, [ [2]*4 ]*2 ] )\n",
    "\n",
    "print( \"a = \", a, sep=\"\\n\" )\n",
    "print( \"-\"*50  ) \n",
    "print( \"a.shape = \", a.shape )\n",
    "print( \"-\"*50  ) \n",
    "\n",
    "print( \"b = \", b, sep=\"\\n\" )\n",
    "print( \"-\"*50  ) \n",
    "print( \"b.shape = \", b.shape )\n",
    "print( \"-\"*50  ) \n",
    "\n",
    "print( \"c = \", c, sep=\"\\n\" )\n",
    "print( \"-\"*50  ) \n",
    "print( \"c.shape = \", c.shape )\n"
   ]
  }
 ],
 "metadata": {
  "kernelspec": {
   "display_name": "Python 3",
   "language": "python",
   "name": "python3"
  },
  "language_info": {
   "codemirror_mode": {
    "name": "ipython",
    "version": 3
   },
   "file_extension": ".py",
   "mimetype": "text/x-python",
   "name": "python",
   "nbconvert_exporter": "python",
   "pygments_lexer": "ipython3",
   "version": "3.11.9"
  },
  "orig_nbformat": 4
 },
 "nbformat": 4,
 "nbformat_minor": 2
}
