{
 "cells": [
  {
   "cell_type": "code",
   "execution_count": 3,
   "metadata": {},
   "outputs": [
    {
     "name": "stdout",
     "output_type": "stream",
     "text": [
      "a = \n",
      "[[4 8 5]\n",
      " [9 3 1]]\n",
      "--------------------------------------------------\n",
      "a.sort() = \n",
      "[[4 5 8]\n",
      " [1 3 9]]\n",
      "--------------------------------------------------\n",
      "a.sort(axis=0) = \n",
      "[[4 3 1]\n",
      " [9 8 5]]\n",
      "--------------------------------------------------\n",
      "a.sort(axis=1) = \n",
      "[[4 5 8]\n",
      " [1 3 9]]\n"
     ]
    }
   ],
   "source": [
    "import numpy as np \n",
    "\n",
    "a = np.array( \n",
    "                [ \n",
    "                    [ 4, 8, 5 ] , \n",
    "                    [ 9, 3, 1] \n",
    "                 ] \n",
    "             )\n",
    "\n",
    "print( 'a = ', a, sep='\\n' )\n",
    "print( \"-\"*50  )\n",
    "\n",
    "a.sort()\n",
    "print( 'a.sort() = ', a, sep='\\n' )\n",
    "print( \"-\"*50  )\n",
    "\n",
    "a = np.array( [ [4, 8, 5], [9, 3, 1] ] )\n",
    "\n",
    "a.sort(axis=0)\n",
    "print( 'a.sort(axis=0) = ', a, sep='\\n' )\n",
    "print( \"-\"*50  )\n",
    "\n",
    "a = np.array( [ [4, 8, 5], [9, 3, 1] ] )\n",
    "a.sort(axis=1)\n",
    "print( 'a.sort(axis=1) = ', a, sep='\\n' )"
   ]
  }
 ],
 "metadata": {
  "kernelspec": {
   "display_name": "Python 3",
   "language": "python",
   "name": "python3"
  },
  "language_info": {
   "codemirror_mode": {
    "name": "ipython",
    "version": 3
   },
   "file_extension": ".py",
   "mimetype": "text/x-python",
   "name": "python",
   "nbconvert_exporter": "python",
   "pygments_lexer": "ipython3",
   "version": "3.11.9"
  },
  "orig_nbformat": 4
 },
 "nbformat": 4,
 "nbformat_minor": 2
}
