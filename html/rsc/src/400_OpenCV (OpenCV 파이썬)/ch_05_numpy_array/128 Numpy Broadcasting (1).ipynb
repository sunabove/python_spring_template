{
 "cells": [
  {
   "cell_type": "code",
   "execution_count": 6,
   "metadata": {},
   "outputs": [
    {
     "name": "stdout",
     "output_type": "stream",
     "text": [
      "a =       =>  [1 2 3]\n",
      "b = a + 3 =>  [4 5 6]\n",
      "c = a - 3 =>  [-2 -1  0]\n",
      "d = a * 3 =>  [3 6 9]\n",
      "e = a / 3 =>  [0.33333333 0.66666667 1.        ]\n",
      "f = a //2 =>  [0 1 1]\n",
      "g = a **2 =>  [1 4 9]\n",
      "h = a **3 =>  [ 1  8 27]\n"
     ]
    }
   ],
   "source": [
    "# Numpy Broadcasting (1)\n",
    "import numpy as np\n",
    "a = np.array( [ 1, 2, 3 ] )\n",
    "b = a + 3   # 덧셈\n",
    "c = a - 3   # 뺄셈\n",
    "d = a * 3   # 곱셈\n",
    "e = a / 3   # 실수 나눗셈\n",
    "f = a // 2  # 정수 나눗셈\n",
    "g = a ** 2  # 제곱\n",
    "h = a ** 3  # 제곱\n",
    "\n",
    "# 배열 값 출력\n",
    "print( \"a =       => \", a )\n",
    "print( \"b = a + 3 => \", b )\n",
    "print( \"c = a - 3 => \", c )\n",
    "print( \"d = a * 3 => \", d )\n",
    "print( \"e = a / 3 => \", e )\n",
    "print( \"f = a //2 => \", f )\n",
    "print( \"g = a **2 => \", g )\n",
    "print( \"h = a **3 => \", h )"
   ]
  }
 ],
 "metadata": {
  "kernelspec": {
   "display_name": "Python 3",
   "language": "python",
   "name": "python3"
  },
  "language_info": {
   "codemirror_mode": {
    "name": "ipython",
    "version": 3
   },
   "file_extension": ".py",
   "mimetype": "text/x-python",
   "name": "python",
   "nbconvert_exporter": "python",
   "pygments_lexer": "ipython3",
   "version": "3.11.9"
  }
 },
 "nbformat": 4,
 "nbformat_minor": 2
}
