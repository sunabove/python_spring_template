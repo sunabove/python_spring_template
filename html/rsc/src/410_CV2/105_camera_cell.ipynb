{
 "cells": [
  {
   "cell_type": "code",
   "execution_count": 5,
   "metadata": {},
   "outputs": [
    {
     "data": {
      "application/vnd.jupyter.widget-view+json": {
       "model_id": "0c5f4d2a7c42475ebe79a89339129e0c",
       "version_major": 2,
       "version_minor": 0
      },
      "text/plain": [
       "Image(value=b'', format='jpeg', layout=\"Layout(height='480px', width='640px')\")"
      ]
     },
     "metadata": {},
     "output_type": "display_data"
    },
    {
     "name": "stdout",
     "output_type": "stream",
     "text": [
      "카메라 스트리밍을 시작합니다. 중지하려면 '정지' 버튼을 누르세요.\n",
      "카메라 스트리밍이 중지되었습니다.\n"
     ]
    }
   ],
   "source": [
    "import cv2\n",
    "from PIL import Image\n",
    "import ipywidgets as widgets\n",
    "from IPython.display import display\n",
    "\n",
    "# 카메라 캡처를 시작합니다.\n",
    "cap = cv2.VideoCapture(0)  # 0은 기본 카메라\n",
    "if not cap.isOpened():\n",
    "    print(\"카메라를 열 수 없습니다.\")\n",
    "    cap.release()\n",
    "    raise Exception(\"카메라 연결 실패\")\n",
    "\n",
    "# 카메라 해상도를 가져옵니다.\n",
    "frame_width = int(cap.get(cv2.CAP_PROP_FRAME_WIDTH))\n",
    "frame_height = int(cap.get(cv2.CAP_PROP_FRAME_HEIGHT))\n",
    "\n",
    "# 영상 표시를 위한 위젯 생성\n",
    "image_widget = widgets.Image(\n",
    "    format='jpeg',\n",
    "    layout=widgets.Layout(height=f'{frame_height}px', width=f'{frame_width}px')\n",
    ")\n",
    "display(image_widget)\n",
    "\n",
    "def update_frame():\n",
    "    ret, frame = cap.read()\n",
    "    if not ret:\n",
    "        return False\n",
    "    # OpenCV 프레임을 JPEG로 변환\n",
    "    _, buffer = cv2.imencode('.jpg', frame)\n",
    "    image_widget.value = buffer.tobytes()  # 위젯 이미지 업데이트\n",
    "    return True\n",
    "\n",
    "try:\n",
    "    print(\"카메라 스트리밍을 시작합니다. 중지하려면 '정지' 버튼을 누르세요.\")\n",
    "    while True:\n",
    "        if not update_frame():\n",
    "            print(\"카메라에서 프레임을 읽을 수 없습니다.\")\n",
    "            break\n",
    "except KeyboardInterrupt:\n",
    "    print(\"카메라 스트리밍이 중지되었습니다.\")\n",
    "finally:\n",
    "    cap.release()  # 자원 해제\n"
   ]
  }
 ],
 "metadata": {
  "kernelspec": {
   "display_name": "Python 3",
   "language": "python",
   "name": "python3"
  },
  "language_info": {
   "codemirror_mode": {
    "name": "ipython",
    "version": 3
   },
   "file_extension": ".py",
   "mimetype": "text/x-python",
   "name": "python",
   "nbconvert_exporter": "python",
   "pygments_lexer": "ipython3",
   "version": "3.13.1"
  }
 },
 "nbformat": 4,
 "nbformat_minor": 2
}
