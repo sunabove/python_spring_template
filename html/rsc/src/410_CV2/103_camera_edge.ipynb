{
 "cells": [
  {
   "cell_type": "code",
   "execution_count": null,
   "metadata": {},
   "outputs": [
    {
     "name": "stdout",
     "output_type": "stream",
     "text": [
      "프로그램이 시작되었습니다. 종료하려면 'q'를 입력하세요.\n",
      "프로그램이 종료되었습니다.\n"
     ]
    }
   ],
   "source": [
    "import cv2\n",
    "import time\n",
    "\n",
    "# 카메라 열기 (0은 기본 카메라를 의미)\n",
    "camera = cv2.VideoCapture(0)\n",
    "\n",
    "if not camera.isOpened():\n",
    "    print(\"카메라를 열 수 없습니다.\")\n",
    "    exit()\n",
    "\n",
    "# 콘솔 메시지 출력\n",
    "print(\"프로그램이 시작되었습니다. 종료하려면 'q'를 입력하세요.\")\n",
    "\n",
    "# 현재 시간 저장\n",
    "start_time = time.time()\n",
    "frame_count = 0\n",
    "\n",
    "while True:\n",
    "    # 카메라에서 프레임 읽기\n",
    "    ret, frame = camera.read()\n",
    "    if not ret:\n",
    "        print(\"프레임을 가져올 수 없습니다.\")\n",
    "        break\n",
    "\n",
    "    # 이미지 그레이스케일로 변환 (Canny 경계선 추출을 위해)\n",
    "    gray_frame = cv2.cvtColor(frame, cv2.COLOR_BGR2GRAY)\n",
    "\n",
    "    # Canny 경계선 추출\n",
    "    edges = cv2.Canny(gray_frame, 100, 200)\n",
    "\n",
    "    # FPS 계산\n",
    "    frame_count += 1\n",
    "    elapsed_time = time.time() - start_time\n",
    "    fps = frame_count / elapsed_time\n",
    "\n",
    "    # 텍스트 추가 (FPS, 경과 시간, 종료 안내 메시지)\n",
    "    fps_text = f\"FPS: {fps:.2f}\"\n",
    "    elapsed_text = f\"Elapsed Time: {elapsed_time:.2f} s\"\n",
    "    quit_text = \"Press 'q' to quit.\"\n",
    "\n",
    "    font = cv2.FONT_HERSHEY_SIMPLEX\n",
    "    # 원본 프레임에 텍스트 추가\n",
    "    cv2.putText(frame, fps_text, (10, 30), font, 1, (0, 255, 0), 2)\n",
    "    cv2.putText(frame, elapsed_text, (10, 70), font, 1, (255, 0, 0), 2)\n",
    "    cv2.putText(frame, quit_text, (10, 110), font, 1, (0, 0, 255), 2)\n",
    "\n",
    "    # 경계선선 프레임에 텍스트 추가\n",
    "    cv2.putText(edges, \"Edge\", (10, 30), font, 1, (255, 255, 255), 2) \n",
    "\n",
    "    # 원본과 엣지 프레임을 수평으로 결합\n",
    "    combined_frame = cv2.hconcat([frame, cv2.cvtColor(edges, cv2.COLOR_GRAY2BGR)])\n",
    "\n",
    "    # 결합된 영상 표시\n",
    "    cv2.imshow(\"Original and Edge Detection\", combined_frame)\n",
    "\n",
    "    # 'q' 키를 누르면 종료\n",
    "    if cv2.waitKey(1) & 0xFF == ord('q'):\n",
    "        print(\"프로그램이 종료되었습니다.\")\n",
    "        break\n",
    "\n",
    "# 자원 해제\n",
    "camera.release()\n",
    "cv2.destroyAllWindows()\n"
   ]
  }
 ],
 "metadata": {
  "kernelspec": {
   "display_name": "Python 3",
   "language": "python",
   "name": "python3"
  },
  "language_info": {
   "codemirror_mode": {
    "name": "ipython",
    "version": 3
   },
   "file_extension": ".py",
   "mimetype": "text/x-python",
   "name": "python",
   "nbconvert_exporter": "python",
   "pygments_lexer": "ipython3",
   "version": "3.13.1"
  }
 },
 "nbformat": 4,
 "nbformat_minor": 2
}
