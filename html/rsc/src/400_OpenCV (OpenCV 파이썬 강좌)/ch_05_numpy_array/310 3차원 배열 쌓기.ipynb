{
 "cells": [
  {
   "cell_type": "code",
   "execution_count": 13,
   "metadata": {},
   "outputs": [
    {
     "name": "stdout",
     "output_type": "stream",
     "text": [
      "np.arange(1, 25) =  [ 1  2  3  4  5  6  7  8  9 10 11 12 13 14 15 16 17 18 19 20 21 22 23 24]\n",
      "a = np.arange(1, 25).reshape(2, 3, 4) = \n",
      "[[[ 1  2  3  4]\n",
      "  [ 5  6  7  8]\n",
      "  [ 9 10 11 12]]\n",
      "\n",
      " [[13 14 15 16]\n",
      "  [17 18 19 20]\n",
      "  [21 22 23 24]]]\n",
      "------------------------------------------------------------\n",
      "a.shape =  (2, 3, 4)\n",
      "------------------------------------------------------------\n",
      "np.arange(1, 17) =  [ 1  2  3  4  5  6  7  8  9 10 11 12 13 14 15 16]\n",
      "b = np.arange(1, 17).reshape(2, 2, 4) = \n",
      "[[[ 1  2  3  4]\n",
      "  [ 5  6  7  8]]\n",
      "\n",
      " [[ 9 10 11 12]\n",
      "  [13 14 15 16]]]\n",
      "------------------------------------------------------------\n",
      "b.shape =  (2, 2, 4)\n",
      "------------------------------------------------------------\n",
      "c = \n",
      "[[[ 1  2  3  4]\n",
      "  [ 5  6  7  8]\n",
      "  [ 9 10 11 12]\n",
      "  [ 1  2  3  4]\n",
      "  [ 5  6  7  8]]\n",
      "\n",
      " [[13 14 15 16]\n",
      "  [17 18 19 20]\n",
      "  [21 22 23 24]\n",
      "  [ 9 10 11 12]\n",
      "  [13 14 15 16]]]\n",
      "------------------------------------------------------------\n",
      "c.shape =  (2, 5, 4)\n",
      "------------------------------------------------------------\n"
     ]
    }
   ],
   "source": [
    "import numpy as np\n",
    "\n",
    "a = np.arange(1, 25).reshape(2, 3, 4)\n",
    "b = np.arange(1, 17).reshape(2, 2, 4)\n",
    "c = np.hstack( (a, b ) )\n",
    "\n",
    "print( \"np.arange(1, 25) = \", np.arange(1, 25) )\n",
    "print( \"a = np.arange(1, 25).reshape(2, 3, 4) = \", a, sep=\"\\n\" )\n",
    "print( \"-\"*60  ) \n",
    "print( \"a.shape = \", a.shape )\n",
    "print( \"-\"*60  )  \n",
    "\n",
    "print( \"np.arange(1, 17) = \", np.arange(1, 17) )\n",
    "print( \"b = np.arange(1, 17).reshape(2, 2, 4) = \", b, sep=\"\\n\" )\n",
    "print( \"-\"*60  ) \n",
    "print( \"b.shape = \", b.shape )\n",
    "print( \"-\"*60  ) \n",
    "\n",
    "print( \"c = \", c, sep=\"\\n\" )\n",
    "print( \"-\"*60  ) \n",
    "print( \"c.shape = \", c.shape )\n",
    "print( \"-\"*60  ) "
   ]
  }
 ],
 "metadata": {
  "kernelspec": {
   "display_name": "Python 3",
   "language": "python",
   "name": "python3"
  },
  "language_info": {
   "codemirror_mode": {
    "name": "ipython",
    "version": 3
   },
   "file_extension": ".py",
   "mimetype": "text/x-python",
   "name": "python",
   "nbconvert_exporter": "python",
   "pygments_lexer": "ipython3",
   "version": "3.11.9"
  },
  "orig_nbformat": 4
 },
 "nbformat": 4,
 "nbformat_minor": 2
}
