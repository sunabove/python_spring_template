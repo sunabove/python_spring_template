{
 "cells": [
  {
   "cell_type": "code",
   "execution_count": 6,
   "metadata": {},
   "outputs": [
    {
     "name": "stdout",
     "output_type": "stream",
     "text": [
      "a =  [1 2 3 4 5 6 7 6 5 4 3 2 1]\n",
      "np.any( a > 5 ) =  True\n",
      "a > 5 =  [False False False False False  True  True  True False False False False\n",
      " False]\n",
      "a[ a > 5 ] =  [6 7 6]\n",
      "np.all( a > 5 ) =  False\n",
      "a[ a > 5 ] =  [1 2 3 4 5 0 0 0 5 4 3 2 1]\n",
      "a =  [1 2 3 4 5 6 7 6 5 4 3 2 1]\n",
      "a[ (a >=3) & (a <= 5) ] = 0 [1 2 0 0 0 6 7 6 0 0 0 2 1]\n"
     ]
    }
   ],
   "source": [
    "import numpy as np\n",
    "\n",
    "a = np.array( [1,2,3,4,5,6,7,6,5,4,3,2,1] )\n",
    "\n",
    "print( \"a = \", a )\n",
    "\n",
    "b = np.any( a > 5 ) # 5 보다 큰 값의 존재 여부\n",
    "print( \"np.any( a > 5 ) = \", b )\n",
    "\n",
    "c = a > 5  \n",
    "print( \"a > 5 = \", c)\n",
    "\n",
    "d = a[ a > 5 ]  # 5 보다 큰 배열들\n",
    "print( \"a[ a > 5 ] = \", d )\n",
    "\n",
    "e = np.all( a > 5 ) # 모들 배열들이 5 보다 큰 값인지를 체크\n",
    "print( \"np.all( a > 5 ) = \", e )\n",
    "\n",
    "a[ a > 5 ] = 0 # 5 보다 큰 배열들의 값을 0으로 설정\n",
    "print( \"a[ a > 5 ] = \", a )\n",
    "\n",
    "a = np.array( [1,2,3,4,5,6,7,6,5,4,3,2,1] )\n",
    "print( \"a = \", a )\n",
    "a[ (a >=3) & (a <= 5) ] = 0  # 3이상 5이하인 배열들을 0으로 설정\n",
    "print( \"a[ (a >=3) & (a <= 5) ] = 0\", a )\n"
   ]
  }
 ],
 "metadata": {
  "kernelspec": {
   "display_name": "Python 3",
   "language": "python",
   "name": "python3"
  },
  "language_info": {
   "codemirror_mode": {
    "name": "ipython",
    "version": 3
   },
   "file_extension": ".py",
   "mimetype": "text/x-python",
   "name": "python",
   "nbconvert_exporter": "python",
   "pygments_lexer": "ipython3",
   "version": "3.11.9"
  }
 },
 "nbformat": 4,
 "nbformat_minor": 2
}
