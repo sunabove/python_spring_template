{
 "cells": [
  {
   "cell_type": "code",
   "execution_count": 5,
   "metadata": {},
   "outputs": [
    {
     "name": "stdout",
     "output_type": "stream",
     "text": [
      "a = \n",
      "[[ 1  2  3  4]\n",
      " [ 5  6  7  8]\n",
      " [ 9 10 11 12]]\n",
      "------------------------------\n",
      "row  1  = [1 2 3 4]\n",
      "row  2  = [5 6 7 8]\n",
      "row  3  = [ 9 10 11 12]\n",
      "------------------------------\n",
      "1,2,3,4,5,6,7,8,9,10,11,12,"
     ]
    }
   ],
   "source": [
    "import numpy as np\n",
    "\n",
    "def f(y, x):\n",
    "   return 4*y + x + 1\n",
    "\n",
    "a = np.fromfunction(f, (3, 4), dtype=int)\n",
    "\n",
    "print( \"a = \", a, sep=\"\\n\")\n",
    "print( \"-\"*30 )\n",
    "\n",
    "for i, row in enumerate(a):\n",
    "   print( \"row \", i + 1, \" =\", row )\n",
    "\n",
    "print( \"-\"*30 )\n",
    "for element in a.flat :\n",
    "    print( element, end=\",\")\n",
    " "
   ]
  }
 ],
 "metadata": {
  "kernelspec": {
   "display_name": "Python 3",
   "language": "python",
   "name": "python3"
  },
  "language_info": {
   "codemirror_mode": {
    "name": "ipython",
    "version": 3
   },
   "file_extension": ".py",
   "mimetype": "text/x-python",
   "name": "python",
   "nbconvert_exporter": "python",
   "pygments_lexer": "ipython3",
   "version": "3.11.9"
  }
 },
 "nbformat": 4,
 "nbformat_minor": 2
}
