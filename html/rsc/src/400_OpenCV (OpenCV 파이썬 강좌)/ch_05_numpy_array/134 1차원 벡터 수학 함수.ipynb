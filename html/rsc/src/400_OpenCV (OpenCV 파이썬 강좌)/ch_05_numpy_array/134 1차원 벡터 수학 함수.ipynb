{
 "cells": [
  {
   "cell_type": "code",
   "execution_count": 5,
   "metadata": {},
   "outputs": [
    {
     "name": "stdout",
     "output_type": "stream",
     "text": [
      "a = [2 3]\n",
      "a ** 4 =  [16 81]\n",
      "np.pow( a, 4 ) =  [16 81]\n",
      "np.sqrt( a ) =  [1.41421356 1.73205081]\n",
      "np.exp( a ) =  [ 7.3890561  20.08553692]\n",
      "np.log( [np.e, np.e**2] ) =  [1. 2.]\n"
     ]
    }
   ],
   "source": [
    "import numpy as np\n",
    "\n",
    "a = np.array( [2, 3] )\n",
    "\n",
    "print( \"a =\", a )\n",
    "print( \"a ** 4 = \", a ** 4 ) # 제곱 함수\n",
    "print( \"np.pow( a, 4 ) = \", np.pow( a, 4 ) ) # 제곱 함수\n",
    "print( \"np.sqrt( a ) = \", np.sqrt( a ) ) # 제곱근 함수\n",
    "print( \"np.exp( a ) = \", np.exp( a ) ) # 지수 함수\n",
    "# 로그 함수\n",
    "print( \"np.log( [np.e, np.e**2] ) = \", np.log( [np.e, np.e**2] ) ) \n"
   ]
  }
 ],
 "metadata": {
  "kernelspec": {
   "display_name": "Python 3",
   "language": "python",
   "name": "python3"
  },
  "language_info": {
   "codemirror_mode": {
    "name": "ipython",
    "version": 3
   },
   "file_extension": ".py",
   "mimetype": "text/x-python",
   "name": "python",
   "nbconvert_exporter": "python",
   "pygments_lexer": "ipython3",
   "version": "3.11.9"
  }
 },
 "nbformat": 4,
 "nbformat_minor": 2
}
