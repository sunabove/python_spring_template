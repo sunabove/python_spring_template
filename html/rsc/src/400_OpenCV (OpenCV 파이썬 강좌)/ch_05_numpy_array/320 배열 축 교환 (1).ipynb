{
 "cells": [
  {
   "cell_type": "code",
   "execution_count": 4,
   "metadata": {},
   "outputs": [
    {
     "name": "stdout",
     "output_type": "stream",
     "text": [
      "np.arange( 1, 13 ) = [ 1  2  3  4  5  6  7  8  9 10 11 12]\n",
      "------------------------------------------------------------\n",
      "a0 = np.arange( 1, 13 ).reshape( 1, 4, 3 )\n",
      "[[[ 1  2  3]\n",
      "  [ 4  5  6]\n",
      "  [ 7  8  9]\n",
      "  [10 11 12]]]\n",
      "------------------------------------------------------------\n",
      "a1 = -a0\n",
      "[[[ -1  -2  -3]\n",
      "  [ -4  -5  -6]\n",
      "  [ -7  -8  -9]\n",
      "  [-10 -11 -12]]]\n",
      "------------------------------------------------------------\n",
      "a = np.concatenate( ( a0, a1 ), axis=0 )\n",
      "[[[  1   2   3]\n",
      "  [  4   5   6]\n",
      "  [  7   8   9]\n",
      "  [ 10  11  12]]\n",
      "\n",
      " [[ -1  -2  -3]\n",
      "  [ -4  -5  -6]\n",
      "  [ -7  -8  -9]\n",
      "  [-10 -11 -12]]]\n",
      "------------------------------------------------------------\n",
      "a.shape =  (2, 4, 3)\n",
      "------------------------------------------------------------\n",
      "b = np.swapaxes( a, 0, 1 )\n",
      "[[[  1   2   3]\n",
      "  [ -1  -2  -3]]\n",
      "\n",
      " [[  4   5   6]\n",
      "  [ -4  -5  -6]]\n",
      "\n",
      " [[  7   8   9]\n",
      "  [ -7  -8  -9]]\n",
      "\n",
      " [[ 10  11  12]\n",
      "  [-10 -11 -12]]]\n",
      "------------------------------------------------------------\n",
      "b.shape =  (4, 2, 3)\n",
      "------------------------------------------------------------\n"
     ]
    }
   ],
   "source": [
    "import numpy as np\n",
    "\n",
    "a0 = np.arange( 1, 13 ).reshape( 1, 4, 3 )\n",
    "a1 = -a0\n",
    "a = np.concatenate( ( a0, a1 ), axis=0 )\n",
    "b = np.swapaxes( a, 0, 1 )\n",
    "\n",
    "print( \"np.arange( 1, 13 ) =\", np.arange( 1, 13 ) )\n",
    "print( \"-\"*60  ) \n",
    "print( \"a0 = np.arange( 1, 13 ).reshape( 1, 4, 3 )\", a0, sep=\"\\n\" )\n",
    "print( \"-\"*60  ) \n",
    "print( \"a1 = -a0\", a1, sep=\"\\n\" )\n",
    "print( \"-\"*60  ) \n",
    "\n",
    "print( \"a = np.concatenate( ( a0, a1 ), axis=0 )\", a, sep=\"\\n\" )\n",
    "print( \"-\"*60  ) \n",
    "print( \"a.shape = \", a.shape )\n",
    "print( \"-\"*60  ) \n",
    "\n",
    "print( \"b = np.swapaxes( a, 0, 1 )\", b, sep=\"\\n\" )\n",
    "print( \"-\"*60  ) \n",
    "print( \"b.shape = \", b.shape )\n",
    "print( \"-\"*60  ) "
   ]
  }
 ],
 "metadata": {
  "kernelspec": {
   "display_name": "Python 3",
   "language": "python",
   "name": "python3"
  },
  "language_info": {
   "codemirror_mode": {
    "name": "ipython",
    "version": 3
   },
   "file_extension": ".py",
   "mimetype": "text/x-python",
   "name": "python",
   "nbconvert_exporter": "python",
   "pygments_lexer": "ipython3",
   "version": "3.11.9"
  },
  "orig_nbformat": 4
 },
 "nbformat": 4,
 "nbformat_minor": 2
}
