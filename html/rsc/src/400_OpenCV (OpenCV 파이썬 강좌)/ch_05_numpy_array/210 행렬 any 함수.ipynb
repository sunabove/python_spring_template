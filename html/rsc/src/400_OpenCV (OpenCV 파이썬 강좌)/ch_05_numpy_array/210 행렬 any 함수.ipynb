{
 "cells": [
  {
   "cell_type": "code",
   "execution_count": null,
   "metadata": {},
   "outputs": [
    {
     "name": "stdout",
     "output_type": "stream",
     "text": [
      "np.arange( 1, 7 ) =\n",
      "[1 2 3 4 5 6]\n",
      "--------------------------------------------------\n",
      "a = np.arange( 1, 7 ).reshape( 2, -1 )\n",
      "[[1 2 3]\n",
      " [4 5 6]]\n",
      "--------------------------------------------------\n",
      "np.any( a>5 ) = True\n",
      "np.any( a>5, axis=0 ) = [False False  True]\n",
      "np.any( a>5, axis=1 ) = [False  True]\n"
     ]
    }
   ],
   "source": [
    "import numpy as np \n",
    "\n",
    "a = np.arange( 1, 7 ).reshape( 2, -1 )\n",
    "\n",
    "print( \"np.arange( 1, 7 ) =\", np.arange( 1, 7 ), sep=\"\\n\" )\n",
    "print( \"-\"*50  )\n",
    "print( \"a = np.arange( 1, 7 ).reshape( 2, -1 )\", a, sep=\"\\n\" )\n",
    "print( \"-\"*50  )\n",
    "print( \"np.any( a>5 ) =\", np.any( a>5 ) )\n",
    "print( \"np.any( a>5, axis=0 ) =\", np.any( a>5, axis=0 ) )\n",
    "print( \"np.any( a>5, axis=1 ) =\", np.any( a>5, axis=1 ))"
   ]
  }
 ],
 "metadata": {
  "kernelspec": {
   "display_name": "Python 3",
   "language": "python",
   "name": "python3"
  },
  "language_info": {
   "codemirror_mode": {
    "name": "ipython",
    "version": 3
   },
   "file_extension": ".py",
   "mimetype": "text/x-python",
   "name": "python",
   "nbconvert_exporter": "python",
   "pygments_lexer": "ipython3",
   "version": "3.11.9"
  },
  "orig_nbformat": 4
 },
 "nbformat": 4,
 "nbformat_minor": 2
}
