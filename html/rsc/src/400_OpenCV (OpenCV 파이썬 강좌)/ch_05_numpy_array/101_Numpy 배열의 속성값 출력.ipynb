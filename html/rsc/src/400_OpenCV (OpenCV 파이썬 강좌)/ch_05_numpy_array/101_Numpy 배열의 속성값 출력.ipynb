{
 "cells": [
  {
   "cell_type": "code",
   "execution_count": 4,
   "metadata": {},
   "outputs": [
    {
     "name": "stdout",
     "output_type": "stream",
     "text": [
      "shape = (3,)\n",
      "ndim = 1\n",
      "dtype = int64\n",
      "itemsize = 8\n",
      "size = 3\n",
      "data = <memory at 0x000001673C969D80>\n"
     ]
    }
   ],
   "source": [
    "import numpy as np\n",
    "\n",
    "# 1차원 배열 초기화\n",
    "a = np.array( [ 1, 2, 3 ] ) \n",
    "\n",
    "print( \"shape =\", a.shape ) \n",
    "print( \"ndim =\", a.ndim) \n",
    "print( \"dtype =\", a.dtype) \n",
    "print( \"itemsize =\", a.itemsize) \n",
    "print( \"size =\", a.size) \n",
    "print( \"data =\", a.data )"
   ]
  }
 ],
 "metadata": {
  "kernelspec": {
   "display_name": "Python 3",
   "language": "python",
   "name": "python3"
  },
  "language_info": {
   "codemirror_mode": {
    "name": "ipython",
    "version": 3
   },
   "file_extension": ".py",
   "mimetype": "text/x-python",
   "name": "python",
   "nbconvert_exporter": "python",
   "pygments_lexer": "ipython3",
   "version": "3.11.9"
  }
 },
 "nbformat": 4,
 "nbformat_minor": 2
}
