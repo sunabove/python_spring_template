{
 "cells": [
  {
   "cell_type": "code",
   "execution_count": 6,
   "metadata": {},
   "outputs": [
    {
     "name": "stdout",
     "output_type": "stream",
     "text": [
      "최대값        = 5\n",
      "최대값 인덱스  = 5\n",
      "최소값        = -1\n",
      "최소값 인덱스  = 2\n"
     ]
    }
   ],
   "source": [
    "import numpy as np \n",
    "\n",
    "a = np.array( [ 4, 2, -1, 3, 1, 5 ] )\n",
    "\n",
    "print( \"최대값        =\", a.max() )\n",
    "print( \"최대값 인덱스  =\", a.argmax() )\n",
    "\n",
    "print( \"최소값        =\", a.min() )\n",
    "print( \"최소값 인덱스  =\", a.argmin() )"
   ]
  }
 ],
 "metadata": {
  "kernelspec": {
   "display_name": "Python 3",
   "language": "python",
   "name": "python3"
  },
  "language_info": {
   "codemirror_mode": {
    "name": "ipython",
    "version": 3
   },
   "file_extension": ".py",
   "mimetype": "text/x-python",
   "name": "python",
   "nbconvert_exporter": "python",
   "pygments_lexer": "ipython3",
   "version": "3.11.9"
  }
 },
 "nbformat": 4,
 "nbformat_minor": 2
}
