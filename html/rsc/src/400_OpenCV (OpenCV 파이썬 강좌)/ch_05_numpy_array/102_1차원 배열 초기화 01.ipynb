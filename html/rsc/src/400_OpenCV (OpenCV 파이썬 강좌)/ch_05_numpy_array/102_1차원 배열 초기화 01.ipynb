{
 "cells": [
  {
   "cell_type": "code",
   "execution_count": 5,
   "metadata": {},
   "outputs": [
    {
     "name": "stdout",
     "output_type": "stream",
     "text": [
      "a =  float64 , shape= (3,)\n",
      "b =  int64 , shape= (4,)\n",
      "c =  float64 , shape= (3,)\n"
     ]
    }
   ],
   "source": [
    "import numpy as np\n",
    "\n",
    "# 1차원 배열 초기화\n",
    "a = np.array( [ 1., 2.0, 3.00 ] )\n",
    "b = np.zeros( (4,), int )\n",
    "c = np.zeros_like( a )\n",
    "\n",
    "# 주요 속성값 출력\n",
    "print( \"a = \", a.dtype, \", shape=\", a.shape )\n",
    "print( \"b = \", b.dtype, \", shape=\", b.shape )\n",
    "print( \"c = \", c.dtype, \", shape=\", c.shape )\n"
   ]
  }
 ],
 "metadata": {
  "kernelspec": {
   "display_name": "Python 3",
   "language": "python",
   "name": "python3"
  },
  "language_info": {
   "codemirror_mode": {
    "name": "ipython",
    "version": 3
   },
   "file_extension": ".py",
   "mimetype": "text/x-python",
   "name": "python",
   "nbconvert_exporter": "python",
   "pygments_lexer": "ipython3",
   "version": "3.11.9"
  }
 },
 "nbformat": 4,
 "nbformat_minor": 2
}
