{
 "cells": [
  {
   "cell_type": "code",
   "execution_count": 3,
   "metadata": {},
   "outputs": [
    {
     "name": "stdout",
     "output_type": "stream",
     "text": [
      "리스트 a        =  [3, 2, 1]\n",
      "리스트 a.sort() =  [1, 2, 3]\n",
      "배열  b =  [3 4 2 1]\n",
      "배열  b.sort() =  [1 2 3 4]\n"
     ]
    }
   ],
   "source": [
    "# 파이썬 리스트 정렬\n",
    "a = [ 3, 2, 1]\n",
    "print( \"리스트 a        = \", a)\n",
    "a.sort()\n",
    "print( \"리스트 a.sort() = \", a )\n",
    "\n",
    "# 넘파이 배열 정렬\n",
    "import numpy as np\n",
    "b = np.array( [ 3, 4, 2, 1 ] )\n",
    "print( \"배열  b = \", b )\n",
    "b.sort()\n",
    "print( \"배열  b.sort() = \", b )"
   ]
  }
 ],
 "metadata": {
  "kernelspec": {
   "display_name": "Python 3",
   "language": "python",
   "name": "python3"
  },
  "language_info": {
   "codemirror_mode": {
    "name": "ipython",
    "version": 3
   },
   "file_extension": ".py",
   "mimetype": "text/x-python",
   "name": "python",
   "nbconvert_exporter": "python",
   "pygments_lexer": "ipython3",
   "version": "3.11.9"
  }
 },
 "nbformat": 4,
 "nbformat_minor": 2
}
