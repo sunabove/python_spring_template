{
 "cells": [
  {
   "cell_type": "code",
   "execution_count": 2,
   "metadata": {},
   "outputs": [
    {
     "name": "stdout",
     "output_type": "stream",
     "text": [
      "a =\n",
      "[[1 2 3]\n",
      " [4 5 6]]\n",
      "a.sum() = 21\n",
      "a.sum(axis=0) = [5 7 9]\n",
      "a.sum(axis=1) = [ 6 15]\n",
      "a.sum(axis=1).shape = (2,)\n"
     ]
    }
   ],
   "source": [
    "import numpy as np \n",
    "\n",
    "a = np.array( [ [1, 2, 3 ], [4, 5, 6] ] )\n",
    "\n",
    "print( \"a =\", a, sep=\"\\n\" )\n",
    "print( \"a.sum() =\", a.sum() )\n",
    "print( \"a.sum(axis=0) =\", a.sum(axis=0) )\n",
    "\n",
    "b= a.sum(axis=1)\n",
    "print( \"a.sum(axis=1) =\", b )\n",
    "print( \"a.sum(axis=1).shape =\", b.shape )"
   ]
  }
 ],
 "metadata": {
  "kernelspec": {
   "display_name": "Python 3",
   "language": "python",
   "name": "python3"
  },
  "language_info": {
   "codemirror_mode": {
    "name": "ipython",
    "version": 3
   },
   "file_extension": ".py",
   "mimetype": "text/x-python",
   "name": "python",
   "nbconvert_exporter": "python",
   "pygments_lexer": "ipython3",
   "version": "3.11.9"
  }
 },
 "nbformat": 4,
 "nbformat_minor": 2
}
