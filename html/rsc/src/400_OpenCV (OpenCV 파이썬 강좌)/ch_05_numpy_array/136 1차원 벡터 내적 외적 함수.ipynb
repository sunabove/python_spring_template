{
 "cells": [
  {
   "cell_type": "code",
   "execution_count": 4,
   "metadata": {},
   "outputs": [
    {
     "name": "stdout",
     "output_type": "stream",
     "text": [
      "a = [1 2 3]\n",
      "b = [4 5 6]\n",
      "np.dot( a, b ) =  32\n",
      "a @ b =  32\n",
      "np.cross( a, b ) =  [-3  6 -3]\n"
     ]
    }
   ],
   "source": [
    "import numpy as np\n",
    "\n",
    "a = np.array( [1, 2, 3] )\n",
    "b = np.array( [4, 5, 6] )\n",
    "\n",
    "print( \"a =\", a )\n",
    "print( \"b =\", b )\n",
    "# 내적 함수\n",
    "print( \"np.dot( a, b ) = \", np.dot( a, b ) )\n",
    "# 내적 함수\n",
    "print( \"a @ b = \", a @ b )\n",
    "# 외적 함수\n",
    "print( \"np.cross( a, b ) = \", np.cross( a, b ) )"
   ]
  }
 ],
 "metadata": {
  "kernelspec": {
   "display_name": "Python 3",
   "language": "python",
   "name": "python3"
  },
  "language_info": {
   "codemirror_mode": {
    "name": "ipython",
    "version": 3
   },
   "file_extension": ".py",
   "mimetype": "text/x-python",
   "name": "python",
   "nbconvert_exporter": "python",
   "pygments_lexer": "ipython3",
   "version": "3.11.9"
  }
 },
 "nbformat": 4,
 "nbformat_minor": 2
}
