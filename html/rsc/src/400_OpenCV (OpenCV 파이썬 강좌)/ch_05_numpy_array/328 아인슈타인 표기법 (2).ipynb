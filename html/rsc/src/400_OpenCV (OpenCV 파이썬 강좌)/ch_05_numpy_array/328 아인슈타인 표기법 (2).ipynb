{
 "cells": [
  {
   "cell_type": "code",
   "execution_count": 5,
   "metadata": {},
   "outputs": [
    {
     "name": "stdout",
     "output_type": "stream",
     "text": [
      "a =  [[1 2]\n",
      " [3 4]]\n",
      "b =  [[5 6]\n",
      " [7 8]]\n",
      "Matrix product:\n",
      "[[19 22]\n",
      " [43 50]]\n"
     ]
    }
   ],
   "source": [
    "# 행렬 곱\n",
    "\n",
    "import numpy as np\n",
    "\n",
    "# 두 행렬\n",
    "a = np.array([[1, 2], [3, 4]])\n",
    "b = np.array([[5, 6], [7, 8]])\n",
    "\n",
    "# 아인슈타인 표기법을 사용한 행렬 곱 계산\n",
    "matrix_product = np.einsum('ik,kj->ij', a, b)\n",
    "# 'ik,kj->ij'는 행렬 곱의 의미로, \n",
    "# i행의 k열 요소를 곱하여 j에 결과를\n",
    "# 합산한다는 의미입니다.\n",
    "\n",
    "print( \"a = \", a )\n",
    "print( \"b = \", b )\n",
    "print(\"Matrix product:\", matrix_product, sep=\"\\n\") "
   ]
  }
 ],
 "metadata": {
  "kernelspec": {
   "display_name": "Python 3",
   "language": "python",
   "name": "python3"
  },
  "language_info": {
   "codemirror_mode": {
    "name": "ipython",
    "version": 3
   },
   "file_extension": ".py",
   "mimetype": "text/x-python",
   "name": "python",
   "nbconvert_exporter": "python",
   "pygments_lexer": "ipython3",
   "version": "3.11.9"
  },
  "orig_nbformat": 4
 },
 "nbformat": 4,
 "nbformat_minor": 2
}
