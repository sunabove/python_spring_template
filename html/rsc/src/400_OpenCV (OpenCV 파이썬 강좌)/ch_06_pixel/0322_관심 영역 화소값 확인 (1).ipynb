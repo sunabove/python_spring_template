{
 "cells": [
  {
   "cell_type": "code",
   "execution_count": 6,
   "metadata": {},
   "outputs": [
    {
     "name": "stdout",
     "output_type": "stream",
     "text": [
      "roi image pixel data =\n",
      " 203,  203,  203,  203,  203,  203,  203,  203,  204,  203,  203,  203,  203,  203,  203,  203,  203,  204,  204,  204,  202,  203,  203,  203,  204,  203,  203,  203,  202,  202,  202,  202,  202,  202,  202,  202,  203,  203,  203,  203, \n",
      " 202,  203,  203,  203,  203,  203,  203,  203,  204,  204,  204,  204,  204,  204,  203,  203,  203,  203,  204,  205,  202,  202,  203,  204,  204,  203,  203,  203,  202,  202,  203,  203,  203,  203,  202,  202,  203,  203,  203,  203, \n",
      " 202,  203,  203,  203,  204,  203,  203,  203,  203,  203,  203,  203,  203,  203,  203,  204,  204,  204,  204,  204,  202,  202,  203,  204,  204,  204,  203,  202,  203,  204,  204,  204,  204,  204,  204,  203,  203,  203,  203,  203, \n",
      " 202,  202,  203,  203,  204,  204,  203,  202,  202,  202,  202,  202,  202,  203,  204,  205,  205,  204,  203,  203,  202,  202,  203,  204,  204,  204,  203,  202,  202,  202,  203,  203,  203,  203,  202,  202,  203,  203,  203,  203, \n",
      " 202,  202,  202,  202,  204,  204,  203,  203,  203,  203,  203,  203,  203,  203,  204,  204,  204,  203,  202,  202,  203,  203,  204,  204,  204,  204,  203,  203,  203,  203,  203,  203,  203,  203,  203,  203,  202,  203,  202,  201, \n",
      " 202,  202,  202,  202,  204,  204,  203,  203,  203,  203,  203,  203,  203,  203,  204,  204,  203,  203,  202,  202,  202,  203,  203,  203,  203,  203,  203,  202,  203,  203,  203,  203,  203,  203,  203,  203,  203,  204,  203,  202, \n",
      " 202,  202,  202,  202,  204,  204,  204,  203,  203,  203,  203,  203,  203,  203,  203,  203,  203,  203,  202,  202,  202,  202,  202,  203,  203,  202,  202,  202,  202,  202,  203,  203,  203,  203,  203,  203,  203,  204,  203,  203, \n",
      " 202,  203,  202,  202,  203,  203,  204,  204,  204,  204,  204,  204,  203,  203,  203,  203,  203,  202,  202,  202,  202,  202,  202,  202,  202,  202,  202,  202,  203,  203,  203,  203,  203,  204,  204,  204,  203,  203,  203,  202, \n",
      " 202,  203,  202,  202,  202,  203,  203,  204,  204,  204,  204,  203,  203,  203,  203,  202,  202,  202,  202,  202,  203,  203,  203,  203,  203,  203,  203,  203,  203,  203,  203,  204,  204,  204,  204,  205,  203,  203,  203,  202, \n",
      " 202,  203,  202,  202,  201,  202,  203,  203,  204,  204,  203,  203,  203,  203,  202,  202,  202,  202,  202,  202,  203,  203,  203,  202,  202,  203,  203,  203,  203,  203,  203,  204,  204,  204,  205,  205,  204,  205,  204,  203, \n",
      " 202,  203,  202,  202,  200,  201,  202,  203,  203,  203,  203,  202,  203,  203,  202,  202,  201,  201,  202,  202,  203,  202,  202,  202,  202,  202,  202,  203,  202,  202,  202,  203,  203,  204,  204,  204,  205,  205,  204,  203, \n",
      " 202,  203,  202,  202,  200,  201,  202,  203,  203,  203,  202,  202,  203,  203,  202,  201,  201,  201,  202,  202,  202,  202,  201,  201,  201,  201,  202,  202,  201,  201,  201,  202,  202,  203,  203,  203,  204,  204,  203,  201, \n",
      " 202,  202,  202,  202,  201,  200,  201,  203,  202,  201,  200,  200,  204,  202,  201,  202,  203,  203,  203,  202,  203,  203,  203,  202,  202,  202,  202,  203,  202,  202,  202,  203,  204,  204,  203,  201,  204,  203,  203,  203, \n",
      " 202,  202,  202,  202,  202,  201,  200,  201,  201,  200,  200,  202,  205,  204,  203,  203,  203,  203,  203,  202,  202,  202,  202,  202,  202,  202,  202,  202,  203,  202,  201,  201,  203,  203,  203,  203,  203,  203,  203,  203, \n",
      " 202,  202,  203,  203,  203,  201,  200,  201,  201,  200,  201,  203,  205,  204,  203,  202,  202,  202,  202,  201,  202,  202,  202,  202,  202,  202,  202,  202,  204,  203,  201,  201,  202,  203,  203,  204,  203,  203,  203,  203, \n",
      " 202,  203,  203,  203,  202,  201,  200,  201,  201,  201,  201,  203,  202,  202,  201,  201,  201,  201,  201,  201,  201,  201,  201,  202,  202,  202,  202,  202,  203,  202,  202,  202,  202,  203,  203,  203,  203,  203,  203,  203, \n",
      " 202,  203,  203,  203,  201,  200,  201,  203,  203,  202,  201,  202,  200,  200,  201,  201,  201,  201,  202,  202,  201,  201,  202,  202,  202,  202,  201,  201,  201,  202,  203,  204,  204,  203,  202,  202,  203,  203,  203,  203, \n",
      " 202,  202,  203,  203,  201,  200,  201,  203,  204,  202,  201,  202,  200,  201,  202,  202,  202,  202,  203,  204,  202,  202,  202,  203,  202,  202,  201,  201,  200,  202,  204,  205,  204,  203,  202,  201,  202,  202,  202,  202, \n",
      " 202,  202,  202,  202,  201,  200,  201,  203,  203,  202,  202,  203,  201,  202,  202,  202,  202,  202,  203,  204,  203,  203,  203,  203,  203,  202,  201,  200,  200,  202,  204,  204,  203,  202,  202,  202,  202,  202,  202,  202, \n",
      " 202,  202,  202,  202,  203,  201,  200,  201,  202,  202,  203,  205,  201,  202,  202,  202,  201,  200,  201,  203,  203,  204,  204,  204,  203,  202,  201,  200,  201,  202,  203,  203,  202,  202,  203,  204,  202,  202,  202,  202, \n",
      "\n"
     ]
    },
    {
     "data": {
      "image/png": "[encoded data removed]",
      "text/plain": [
       "<Figure size 640x480 with 1 Axes>"
      ]
     },
     "metadata": {},
     "output_type": "display_data"
    }
   ],
   "source": [
    "# 관심 영역 화소값 확인\n",
    "import numpy as np, cv2, matplotlib.pyplot as plt\n",
    "\n",
    " # 영상 읽기 \n",
    "all_image = cv2.imread(\"example.jpg\", cv2.IMREAD_GRAYSCALE)\n",
    "\n",
    "(x, y), (width, height) = (180, 100), (40, 20) # 좌표는 x, y\n",
    "roi_img = all_image[ y : y + height , x : x + width ] # 행렬 접근은 y, x\n",
    "\n",
    "print( \"roi image pixel data =\" )\n",
    "\n",
    "for row in roi_img:\n",
    "    for pixel in row:\n",
    "        print( f\"{pixel:4d}, \", end=\"\")       # 행렬 원소 하나 출력\n",
    "    pass\n",
    "    print()\n",
    "pass\n",
    "print()\n",
    "\n",
    "plt.title('ROI Image')\n",
    "plt.imshow( roi_img, cmap=\"gray\") \n",
    "plt.axis('off') \n",
    "plt.show()"
   ]
  }
 ],
 "metadata": {
  "kernelspec": {
   "display_name": "Python 3",
   "language": "python",
   "name": "python3"
  },
  "language_info": {
   "codemirror_mode": {
    "name": "ipython",
    "version": 3
   },
   "file_extension": ".py",
   "mimetype": "text/x-python",
   "name": "python",
   "nbconvert_exporter": "python",
   "pygments_lexer": "ipython3",
   "version": "3.11.9"
  }
 },
 "nbformat": 4,
 "nbformat_minor": 4
}
