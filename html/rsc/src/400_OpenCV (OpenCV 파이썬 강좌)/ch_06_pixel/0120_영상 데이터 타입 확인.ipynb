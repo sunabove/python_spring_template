{
 "cells": [
  {
   "cell_type": "code",
   "execution_count": 2,
   "metadata": {},
   "outputs": [
    {
     "name": "stdout",
     "output_type": "stream",
     "text": [
      "color_image.dtype = uint8\n",
      "color_image.shape = (2848, 4272, 3)\n",
      "----------------------------------------\n",
      "grayscale_image.dtype = uint8\n",
      "grayscale_image.shape = (2848, 4272)\n"
     ]
    }
   ],
   "source": [
    "import cv2\n",
    "import numpy as np\n",
    "\n",
    "# 컬러 이미지 읽기\n",
    "color_image = cv2.imread(\"example.jpg\")\n",
    "\n",
    "# 데이터 타입 확인\n",
    "print( \"color_image.dtype =\", color_image.dtype)\n",
    "print( \"color_image.shape =\", color_image.shape)\n",
    "print( \"-\"*40 )\n",
    "\n",
    "# 그레이스케일 이미지 읽기\n",
    "grayscale_image = cv2.imread(\"example.jpg\", cv2.IMREAD_GRAYSCALE)\n",
    "# 데이터 타입 확인\n",
    "print( \"grayscale_image.dtype =\", grayscale_image.dtype)\n",
    "print( \"grayscale_image.shape =\", grayscale_image.shape)\n"
   ]
  }
 ],
 "metadata": {
  "kernelspec": {
   "display_name": "Python 3",
   "language": "python",
   "name": "python3"
  },
  "language_info": {
   "codemirror_mode": {
    "name": "ipython",
    "version": 3
   },
   "file_extension": ".py",
   "mimetype": "text/x-python",
   "name": "python",
   "nbconvert_exporter": "python",
   "pygments_lexer": "ipython3",
   "version": "3.11.9"
  }
 },
 "nbformat": 4,
 "nbformat_minor": 4
}
