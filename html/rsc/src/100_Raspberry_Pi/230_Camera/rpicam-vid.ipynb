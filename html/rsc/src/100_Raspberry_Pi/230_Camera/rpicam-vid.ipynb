{
 "cells": [
  {
   "cell_type": "code",
   "execution_count": null,
   "id": "0e75ee0b-11b3-488b-b2a6-03380f25babb",
   "metadata": {},
   "outputs": [],
   "source": [
    "# 동영상 촬영\n",
    "! rpicam-vid -t 10  o video.h264"
   ]
  },
  {
   "cell_type": "code",
   "execution_count": null,
   "id": "16bd98d8-fd1b-4f55-a26c-e6553097d442",
   "metadata": {},
   "outputs": [],
   "source": [
    "# 비디오 컨버터 설치 \n",
    "! sudo apt install ffmpeg -y"
   ]
  },
  {
   "cell_type": "code",
   "execution_count": null,
   "id": "84acffe9-2559-4a96-81a9-7ba834d9b195",
   "metadata": {},
   "outputs": [],
   "source": [
    "# 웹 브라우저 출력용 비디오 포맷 변환\n",
    "! ffmpeg -i video.h264 video.mp4 -y"
   ]
  },
  {
   "cell_type": "code",
   "execution_count": 4,
   "id": "22cff55c-6f45-4dee-8851-5168aa939022",
   "metadata": {},
   "outputs": [
    {
     "data": {
      "text/html": [
       "<video src=\"video.mp4\" controls  >\n",
       "      Your browser does not support the <code>video</code> element.\n",
       "    </video>"
      ],
      "text/plain": [
       "<IPython.core.display.Video object>"
      ]
     },
     "execution_count": 4,
     "metadata": {},
     "output_type": "execute_result"
    }
   ],
   "source": [
    "# 비디오 출력\n",
    "from IPython.display import Video\n",
    "Video( 'video.mp4' ) "
   ]
  }
 ],
 "metadata": {
  "kernelspec": {
   "display_name": "Python 3 (ipykernel)",
   "language": "python",
   "name": "python3"
  },
  "language_info": {
   "codemirror_mode": {
    "name": "ipython",
    "version": 3
   },
   "file_extension": ".py",
   "mimetype": "text/x-python",
   "name": "python",
   "nbconvert_exporter": "python",
   "pygments_lexer": "ipython3",
   "version": "3.11.2"
  }
 },
 "nbformat": 4,
 "nbformat_minor": 5
}
